{
 "cells": [
  {
   "cell_type": "markdown",
   "metadata": {},
   "source": [
    "# Reviewer Randomizer\n",
    "\n",
    "**Inputs:**\n",
    "1. List of reviewers\n",
    "2. Number of people assigned to be each applicant\n",
    "3. List of applicants\n",
    "\n",
    "**Outputs:**\n",
    "\n",
    "Table of applicants with randomly assigned reviewers attached."
   ]
  },
  {
   "cell_type": "code",
   "execution_count": 1,
   "metadata": {},
   "outputs": [],
   "source": [
    "# Load packages\n",
    "from random import randrange\n",
    "from math import ceil"
   ]
  },
  {
   "cell_type": "code",
   "execution_count": 2,
   "metadata": {},
   "outputs": [],
   "source": [
    "# Number of people looking over each applicant.\n",
    "eyes = 3"
   ]
  },
  {
   "cell_type": "code",
   "execution_count": 3,
   "metadata": {},
   "outputs": [],
   "source": [
    "# Input list of reviewers. Need 3 quotation marks at beginning and end of list only. Each reviewer should be on a new line.\n",
    "reviewers = \"\"\"Gary\tWestbrook\n",
    "Tianyi\tMao\n",
    "Kevin\tWright\n",
    "Larry\tTrussell\n",
    "Henrique\tVonGersdorf\n",
    "Eric\tSchnell\n",
    "Kelly\tMonk\n",
    "Haining\tZhong\n",
    "John\tWilliams\"\"\"\n",
    "reviewers = reviewers.replace(\"\\t\", \" \").split(\"\\n\")"
   ]
  },
  {
   "cell_type": "code",
   "execution_count": 4,
   "metadata": {},
   "outputs": [],
   "source": [
    "# Input list of applicants. Need 3 quotation marks at beginning and end of list only. Each reviewer should be on a new line.\n",
    "applicants = \"\"\"A\tB\n",
    "C\tD\n",
    "E\tF\n",
    "G\tH\n",
    "I\tJ\n",
    "K\tL\n",
    "M\tN\n",
    "O\tP\n",
    "Q\tR\n",
    "S\tT\n",
    "U\tV\n",
    "W\tX\n",
    "Y\tZ\"\"\"\n",
    "applicants = applicants.replace(\"\\t\", \" \").split(\"\\n\")"
   ]
  },
  {
   "cell_type": "code",
   "execution_count": 5,
   "metadata": {},
   "outputs": [],
   "source": [
    "reviewer_num = len(reviewers)\n",
    "applicant_num = len(applicants)\n",
    "max_num = ceil(applicant_num * eyes / reviewer_num)"
   ]
  },
  {
   "cell_type": "code",
   "execution_count": 6,
   "metadata": {},
   "outputs": [
    {
     "name": "stdout",
     "output_type": "stream",
     "text": [
      "Applicant\tReviewers\n",
      "A B\tLarry Trussell\tEric Schnell\tTianyi Mao\n",
      "C D\tGary Westbrook\tEric Schnell\tLarry Trussell\n",
      "E F\tHaining Zhong\tHenrique VonGersdorf\tLarry Trussell\n",
      "G H\tHenrique VonGersdorf\tGary Westbrook\tEric Schnell\n",
      "I J\tLarry Trussell\tGary Westbrook\tHenrique VonGersdorf\n",
      "K L\tHaining Zhong\tGary Westbrook\tHenrique VonGersdorf\n",
      "M N\tHaining Zhong\tTianyi Mao\tKelly Monk\n",
      "O P\tKevin Wright\tLarry Trussell\tKelly Monk\n",
      "Q R\tKevin Wright\tHenrique VonGersdorf\tTianyi Mao\n",
      "S T\tTianyi Mao\tJohn Williams\tGary Westbrook\n",
      "U V\tJohn Williams\tHaining Zhong\tTianyi Mao\n",
      "W X\tJohn Williams\tEric Schnell\tKevin Wright\n",
      "Y Z\tKevin Wright\tJohn Williams\tEric Schnell\n"
     ]
    }
   ],
   "source": [
    "reviewer_counts = {} # keep track of how many students each reviewer is assigned\n",
    "reviewer_dict = {} # keep a list of each applicant assigned to each reviewer\n",
    "applicant_dict = {} # keep a list of each reviewer assigned to each applicant\n",
    "for reviewer in reviewers: # build reviewer dictionaries\n",
    "    reviewer_counts[reviewer] = 0\n",
    "    reviewer_dict[reviewer] = []\n",
    "\n",
    "# print table of applicant: reviewers\n",
    "print(\"Applicant\\tReviewers\")\n",
    "for applicant in applicants:\n",
    "    applicant_dict[applicant] = []\n",
    "    rev_list = []\n",
    "    line = applicant\n",
    "    for x in range(eyes):\n",
    "        temp = reviewers[randrange(reviewer_num)]\n",
    "        while temp in rev_list or reviewer_counts[temp] >= max_num:\n",
    "            temp = reviewers[randrange(reviewer_num)]\n",
    "        rev_list.append(temp)\n",
    "        reviewer_counts[temp] += 1\n",
    "        reviewer_dict[temp].append(applicant)\n",
    "        applicant_dict[applicant].append(temp)\n",
    "        line += \"\\t\" + temp\n",
    "    print(line)"
   ]
  },
  {
   "cell_type": "code",
   "execution_count": 7,
   "metadata": {},
   "outputs": [
    {
     "name": "stdout",
     "output_type": "stream",
     "text": [
      "Gary Westbrook\t5\n",
      "Tianyi Mao\t5\n",
      "Kevin Wright\t4\n",
      "Larry Trussell\t5\n",
      "Henrique VonGersdorf\t5\n",
      "Eric Schnell\t5\n",
      "Kelly Monk\t2\n",
      "Haining Zhong\t4\n",
      "John Williams\t4\n"
     ]
    }
   ],
   "source": [
    "# check distribution of work\n",
    "for reviewer, count in reviewer_counts.items():\n",
    "    print(f\"{reviewer}\\t{count}\")"
   ]
  },
  {
   "cell_type": "code",
   "execution_count": 8,
   "metadata": {},
   "outputs": [
    {
     "name": "stdout",
     "output_type": "stream",
     "text": [
      "Reviewer\tApplicants\n",
      "Gary Westbrook\tC D\tG H\tI J\tK L\tS T\n",
      "Tianyi Mao\tA B\tM N\tQ R\tS T\tU V\n",
      "Kevin Wright\tO P\tQ R\tW X\tY Z\n",
      "Larry Trussell\tA B\tC D\tE F\tI J\tO P\n",
      "Henrique VonGersdorf\tE F\tG H\tI J\tK L\tQ R\n",
      "Eric Schnell\tA B\tC D\tG H\tW X\tY Z\n",
      "Kelly Monk\tM N\tO P\n",
      "Haining Zhong\tE F\tK L\tM N\tU V\n",
      "John Williams\tS T\tU V\tW X\tY Z\n"
     ]
    }
   ],
   "source": [
    "# print table of reviewer: applicants\n",
    "print(\"Reviewer\\tApplicants\")\n",
    "for reviewer in reviewer_dict:\n",
    "    line = reviewer\n",
    "    for applicant in reviewer_dict[reviewer]:\n",
    "        line += \"\\t\" + applicant\n",
    "    print(line)"
   ]
  }
 ],
 "metadata": {
  "kernelspec": {
   "display_name": "Python 3 (ipykernel)",
   "language": "python",
   "name": "python3"
  },
  "language_info": {
   "codemirror_mode": {
    "name": "ipython",
    "version": 3
   },
   "file_extension": ".py",
   "mimetype": "text/x-python",
   "name": "python",
   "nbconvert_exporter": "python",
   "pygments_lexer": "ipython3",
   "version": "3.9.13"
  }
 },
 "nbformat": 4,
 "nbformat_minor": 4
}
