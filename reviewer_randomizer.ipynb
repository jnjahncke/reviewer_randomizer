{
  "metadata": {
    "language_info": {
      "codemirror_mode": {
        "name": "python",
        "version": 3
      },
      "file_extension": ".py",
      "mimetype": "text/x-python",
      "name": "python",
      "nbconvert_exporter": "python",
      "pygments_lexer": "ipython3",
      "version": "3.8"
    },
    "kernelspec": {
      "name": "python",
      "display_name": "Python (Pyodide)",
      "language": "python"
    }
  },
  "nbformat_minor": 4,
  "nbformat": 4,
  "cells": [
    {
      "cell_type": "markdown",
      "source": "# Reviewer Randomizer\n\n**Inputs:**\n1. List of reviewers\n2. Number of people assigned to be each applicant\n3. List of applicants\n\n**Outputs:**\n\nTable of applicants with randomly assigned reviewers attached.",
      "metadata": {}
    },
    {
      "cell_type": "code",
      "source": "# Load packages\nfrom random import randrange\nfrom math import ceil",
      "metadata": {
        "trusted": true
      },
      "execution_count": 1,
      "outputs": []
    },
    {
      "cell_type": "code",
      "source": "# Number of people looking over each applicant.\neyes = 3",
      "metadata": {
        "trusted": true
      },
      "execution_count": 2,
      "outputs": []
    },
    {
      "cell_type": "code",
      "source": "# Input list of reviewers. Need 3 quotation marks at beginning and end of list only. Each reviewer should be on a new line.\nreviewers = \"\"\"Gary\tWestbrook\nTianyi\tMao\nKevin\tWright\nLarry\tTrussell\nHenrique\tVonGersdorf\nEric\tSchnell\nKelly\tMonk\nHaining\tZhong\nJohn\tWilliams\"\"\"\nreviewers = reviewers.replace(\"\\t\", \" \").split(\"\\n\")",
      "metadata": {
        "trusted": true
      },
      "execution_count": 3,
      "outputs": []
    },
    {
      "cell_type": "code",
      "source": "# Input list of applicants. Need 3 quotation marks at beginning and end of list only. Each reviewer should be on a new line.\napplicants = \"\"\"A\tB\nC\tD\nE\tF\nG\tH\nI\tJ\nK\tL\nM\tN\nO\tP\nQ\tR\nS\tT\nU\tV\nW\tX\nY\tZ\"\"\"\napplicants = applicants.replace(\"\\t\", \" \").split(\"\\n\")",
      "metadata": {
        "trusted": true
      },
      "execution_count": 4,
      "outputs": []
    },
    {
      "cell_type": "code",
      "source": "reviewer_num = len(reviewers)\napplicant_num = len(applicants)\nmax_num = ceil(applicant_num * eyes / reviewer_num)",
      "metadata": {
        "trusted": true
      },
      "execution_count": 5,
      "outputs": []
    },
    {
      "cell_type": "code",
      "source": "reviewer_counts = {} # keep track of how many students each reviewer is assigned\nreviewer_dict = {} # keep a list of each applicant assigned to each reviewer\napplicant_dict = {} # keep a list of each reviewer assigned to each applicant\nfor reviewer in reviewers: # build reviewer dictionaries\n    reviewer_counts[reviewer] = 0\n    reviewer_dict[reviewer] = []\n\n# print table of applicant: reviewers\nprint(\"Applicant\\tReviewers\")\nfor applicant in applicants:\n    applicant_dict[applicant] = []\n    rev_list = []\n    line = applicant\n    for x in range(eyes):\n        temp = reviewers[randrange(reviewer_num)]\n        while temp in rev_list or reviewer_counts[temp] >= max_num:\n            temp = reviewers[randrange(reviewer_num)]\n        rev_list.append(temp)\n        reviewer_counts[temp] += 1\n        reviewer_dict[temp].append(applicant)\n        applicant_dict[applicant].append(temp)\n        line += \"\\t\" + temp\n    print(line)",
      "metadata": {
        "trusted": true
      },
      "execution_count": 6,
      "outputs": [
        {
          "name": "stdout",
          "text": "Applicant\tReviewers\nA B\tGary Westbrook\tEric Schnell\tHenrique VonGersdorf\nC D\tHenrique VonGersdorf\tEric Schnell\tJohn Williams\nE F\tGary Westbrook\tJohn Williams\tHaining Zhong\nG H\tKelly Monk\tGary Westbrook\tTianyi Mao\nI J\tHaining Zhong\tGary Westbrook\tKevin Wright\nK L\tGary Westbrook\tKevin Wright\tHaining Zhong\nM N\tEric Schnell\tLarry Trussell\tTianyi Mao\nO P\tKelly Monk\tJohn Williams\tTianyi Mao\nQ R\tTianyi Mao\tKevin Wright\tHaining Zhong\nS T\tTianyi Mao\tLarry Trussell\tHenrique VonGersdorf\nU V\tHaining Zhong\tLarry Trussell\tJohn Williams\nW X\tKevin Wright\tHenrique VonGersdorf\tJohn Williams\nY Z\tLarry Trussell\tKevin Wright\tHenrique VonGersdorf\n",
          "output_type": "stream"
        }
      ]
    },
    {
      "cell_type": "code",
      "source": "# check distribution of work\nfor reviewer, count in reviewer_counts.items():\n    print(f\"{reviewer}\\t{count}\")",
      "metadata": {
        "trusted": true
      },
      "execution_count": 7,
      "outputs": [
        {
          "name": "stdout",
          "text": "Gary Westbrook\t5\nTianyi Mao\t5\nKevin Wright\t5\nLarry Trussell\t4\nHenrique VonGersdorf\t5\nEric Schnell\t3\nKelly Monk\t2\nHaining Zhong\t5\nJohn Williams\t5\n",
          "output_type": "stream"
        }
      ]
    },
    {
      "cell_type": "code",
      "source": "# print table of reviewer: applicants\nprint(\"Reviewer\\tApplicants\")\nfor reviewer in reviewer_dict:\n    line = reviewer\n    for applicant in reviewer_dict[reviewer]:\n        line += \"\\t\" + applicant\n    print(line)",
      "metadata": {
        "trusted": true
      },
      "execution_count": 8,
      "outputs": [
        {
          "name": "stdout",
          "text": "Reviewer\tApplicants\nGary Westbrook\tA B\tE F\tG H\tI J\tK L\nTianyi Mao\tG H\tM N\tO P\tQ R\tS T\nKevin Wright\tI J\tK L\tQ R\tW X\tY Z\nLarry Trussell\tM N\tS T\tU V\tY Z\nHenrique VonGersdorf\tA B\tC D\tS T\tW X\tY Z\nEric Schnell\tA B\tC D\tM N\nKelly Monk\tG H\tO P\nHaining Zhong\tE F\tI J\tK L\tQ R\tU V\nJohn Williams\tC D\tE F\tO P\tU V\tW X\n",
          "output_type": "stream"
        }
      ]
    }
  ]
}