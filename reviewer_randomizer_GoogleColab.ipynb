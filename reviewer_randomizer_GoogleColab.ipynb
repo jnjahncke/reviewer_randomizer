{
  "cells": [
    {
      "cell_type": "markdown",
      "metadata": {
        "id": "D-lFC39S4hYm"
      },
      "source": [
        "# Reviewer Randomizer\n",
        "\n",
        "**Inputs:**\n",
        "1. Number of people to be assigned to each applicant.\n",
        "2. List of reviewer names.\n",
        "3. List of applicant names.\n",
        "\n",
        "**Outputs:**\n",
        "1. Table of applicants with randomly assigned reviewers.\n",
        "2. Table of reviewers with assigned applicants to review.\n",
        "3. Text file with reviewer names and their assigned applicants.\n",
        "\n",
        "*(Both output tables contain the same information in different format.)*"
      ]
    },
    {
      "cell_type": "code",
      "execution_count": null,
      "metadata": {
        "id": "FBc83fJf4hYr"
      },
      "outputs": [],
      "source": [
        "# Load packages\n",
        "from random import randrange\n",
        "from math import floor\n",
        "import re\n",
        "from google.colab import files"
      ]
    },
    {
      "cell_type": "markdown",
      "source": [
        "### Enter inputs:\n",
        "* **Number of eyes on each application** (`eyes`)\n",
        "* **Reviewer names** (`reviewers`) - each reviewer on a new line; 3 quotes (`\"\"\"`) at the beginning and end of the list. Names can be first and last or just first; first and last names separated by space or a tab (doesn't matter). Role should be listed after each name (\"faculty\", \"postdoc\", \"student\", etc.). You should be able to paste the list in from excel if desired.\n",
        "* **Applicant names** (`applicants`) - same layout as reviewers (but no role required)"
      ],
      "metadata": {
        "id": "WI9lKcV6a6dC"
      }
    },
    {
      "cell_type": "code",
      "execution_count": null,
      "metadata": {
        "id": "Jf2BRYn44hYt"
      },
      "outputs": [],
      "source": [
        "# Number of people assigned to each applicant.\n",
        "eyes = 3"
      ]
    },
    {
      "cell_type": "code",
      "execution_count": null,
      "metadata": {
        "id": "E6pWhwkp4hYu"
      },
      "outputs": [],
      "source": [
        "# Input list of reviewers & their roles. \n",
        "# Need 3 quotation marks at beginning and end of LIST only. \n",
        "# Each reviewer should be on a new line.\n",
        "# Case does not matter.\n",
        "reviewers = \"\"\"Gary Westbrook   Faculty\n",
        "Tianyi  Mao  Faculty\n",
        "Kevin Wright    Faculty\n",
        "Larry Trussell  Faculty\n",
        "Henrique vonGersdorf    Faculty\n",
        "Eric Schnell    Faculty\n",
        "Kelly Monk  Faculty\n",
        "Yessica Santana Student\n",
        "Nina Luong  Student\n",
        "Jennifer Jahncke    Student\n",
        "Marissa Co  Postdoc\"\"\"\n",
        "reviewers = reviewers.replace(\"\\t\", \" \").split(\"\\n\")"
      ]
    },
    {
      "cell_type": "code",
      "execution_count": null,
      "metadata": {
        "id": "_GcN3Vow4hYv"
      },
      "outputs": [],
      "source": [
        "# Input list of applicants. Need 3 quotation marks at beginning and end of list only. Each reviewer should be on a new line.\n",
        "applicants = \"\"\"A\tB\n",
        "C\tD\n",
        "E\tF\n",
        "G\tH\n",
        "I\tJ\n",
        "K\tL\n",
        "M\tN\n",
        "O\tP\n",
        "Q\tR\n",
        "S\tT\n",
        "U\tV\n",
        "W\tX\n",
        "Y\tZ\"\"\"\n",
        "applicants = applicants.replace(\"\\t\", \" \").split(\"\\n\")"
      ]
    },
    {
      "cell_type": "markdown",
      "source": [
        "### Run Script, Export Excel Sheets"
      ],
      "metadata": {
        "id": "wTk8LFiQbnEa"
      }
    },
    {
      "cell_type": "code",
      "execution_count": null,
      "metadata": {
        "colab": {
          "base_uri": "https://localhost:8080/",
          "height": 538
        },
        "id": "AebegZdv4hYw",
        "outputId": "0fcae69f-c171-4cd8-8287-7cfdb85e97e5"
      },
      "outputs": [
        {
          "output_type": "stream",
          "name": "stdout",
          "text": [
            "\n",
            "\n",
            "Applicant\tReviewers\n",
            "A B\tYessica Santana\tTianyi  Mao\tLarry Trussell\n",
            "C D\tNina Luong\tHenrique vonGersdorf\tEric Schnell\n",
            "E F\tNina Luong\tLarry Trussell\tKelly Monk\n",
            "G H\tNina Luong\tGary Westbrook\tKelly Monk\n",
            "I J\tMarissa Co\tKevin Wright\tHenrique vonGersdorf\n",
            "K L\tJennifer Jahncke\tKevin Wright\tHenrique vonGersdorf\n",
            "M N\tMarissa Co\tLarry Trussell\tHenrique vonGersdorf\n",
            "O P\tJennifer Jahncke\tEric Schnell\tKelly Monk\n",
            "Q R\tMarissa Co\tEric Schnell\tKelly Monk\n",
            "S T\tJennifer Jahncke\tGary Westbrook\tKevin Wright\n",
            "U V\tYessica Santana\tGary Westbrook\tTianyi  Mao\n",
            "W X\tJennifer Jahncke\tTianyi  Mao\tEric Schnell\n",
            "Y Z\tYessica Santana\tTianyi  Mao\tKevin Wright\n"
          ]
        },
        {
          "output_type": "display_data",
          "data": {
            "text/plain": [
              "<IPython.core.display.Javascript object>"
            ],
            "application/javascript": [
              "\n",
              "    async function download(id, filename, size) {\n",
              "      if (!google.colab.kernel.accessAllowed) {\n",
              "        return;\n",
              "      }\n",
              "      const div = document.createElement('div');\n",
              "      const label = document.createElement('label');\n",
              "      label.textContent = `Downloading \"${filename}\": `;\n",
              "      div.appendChild(label);\n",
              "      const progress = document.createElement('progress');\n",
              "      progress.max = size;\n",
              "      div.appendChild(progress);\n",
              "      document.body.appendChild(div);\n",
              "\n",
              "      const buffers = [];\n",
              "      let downloaded = 0;\n",
              "\n",
              "      const channel = await google.colab.kernel.comms.open(id);\n",
              "      // Send a message to notify the kernel that we're ready.\n",
              "      channel.send({})\n",
              "\n",
              "      for await (const message of channel.messages) {\n",
              "        // Send a message to notify the kernel that we're ready.\n",
              "        channel.send({})\n",
              "        if (message.buffers) {\n",
              "          for (const buffer of message.buffers) {\n",
              "            buffers.push(buffer);\n",
              "            downloaded += buffer.byteLength;\n",
              "            progress.value = downloaded;\n",
              "          }\n",
              "        }\n",
              "      }\n",
              "      const blob = new Blob(buffers, {type: 'application/binary'});\n",
              "      const a = document.createElement('a');\n",
              "      a.href = window.URL.createObjectURL(blob);\n",
              "      a.download = filename;\n",
              "      div.appendChild(a);\n",
              "      a.click();\n",
              "      div.remove();\n",
              "    }\n",
              "  "
            ]
          },
          "metadata": {}
        },
        {
          "output_type": "display_data",
          "data": {
            "text/plain": [
              "<IPython.core.display.Javascript object>"
            ],
            "application/javascript": [
              "download(\"download_ed7baa36-9447-4ca1-9b79-781ea7909f73\", \"applicants_reviewers.csv\", 626)"
            ]
          },
          "metadata": {}
        },
        {
          "output_type": "stream",
          "name": "stdout",
          "text": [
            "\n",
            "\n",
            "Reviewer\tApplicants\n",
            "Gary Westbrook\tG H\tS T\tU V\t\n",
            "Tianyi  Mao\tA B\tU V\tW X\tY Z\n",
            "Kevin Wright\tI J\tK L\tY Z\tS T\n",
            "Larry Trussell\tA B\tE F\tM N\t\n",
            "Henrique vonGersdorf\tI J\tC D\tM N\tK L\n",
            "Eric Schnell\tC D\tO P\tW X\tQ R\n",
            "Kelly Monk\tQ R\tO P\tE F\tG H\n",
            "Yessica Santana\tA B\tY Z\tU V\t\n",
            "Nina Luong\tC D\tE F\tG H\t\n",
            "Jennifer Jahncke\tO P\tW X\tS T\tK L\n",
            "Marissa Co\tI J\tM N\tQ R\t\n"
          ]
        },
        {
          "output_type": "display_data",
          "data": {
            "text/plain": [
              "<IPython.core.display.Javascript object>"
            ],
            "application/javascript": [
              "\n",
              "    async function download(id, filename, size) {\n",
              "      if (!google.colab.kernel.accessAllowed) {\n",
              "        return;\n",
              "      }\n",
              "      const div = document.createElement('div');\n",
              "      const label = document.createElement('label');\n",
              "      label.textContent = `Downloading \"${filename}\": `;\n",
              "      div.appendChild(label);\n",
              "      const progress = document.createElement('progress');\n",
              "      progress.max = size;\n",
              "      div.appendChild(progress);\n",
              "      document.body.appendChild(div);\n",
              "\n",
              "      const buffers = [];\n",
              "      let downloaded = 0;\n",
              "\n",
              "      const channel = await google.colab.kernel.comms.open(id);\n",
              "      // Send a message to notify the kernel that we're ready.\n",
              "      channel.send({})\n",
              "\n",
              "      for await (const message of channel.messages) {\n",
              "        // Send a message to notify the kernel that we're ready.\n",
              "        channel.send({})\n",
              "        if (message.buffers) {\n",
              "          for (const buffer of message.buffers) {\n",
              "            buffers.push(buffer);\n",
              "            downloaded += buffer.byteLength;\n",
              "            progress.value = downloaded;\n",
              "          }\n",
              "        }\n",
              "      }\n",
              "      const blob = new Blob(buffers, {type: 'application/binary'});\n",
              "      const a = document.createElement('a');\n",
              "      a.href = window.URL.createObjectURL(blob);\n",
              "      a.download = filename;\n",
              "      div.appendChild(a);\n",
              "      a.click();\n",
              "      div.remove();\n",
              "    }\n",
              "  "
            ]
          },
          "metadata": {}
        },
        {
          "output_type": "display_data",
          "data": {
            "text/plain": [
              "<IPython.core.display.Javascript object>"
            ],
            "application/javascript": [
              "download(\"download_8f77bbbc-1322-4a1a-a5d3-4e38178ad253\", \"reviewer_applicants.csv\", 339)"
            ]
          },
          "metadata": {}
        },
        {
          "output_type": "display_data",
          "data": {
            "text/plain": [
              "<IPython.core.display.Javascript object>"
            ],
            "application/javascript": [
              "\n",
              "    async function download(id, filename, size) {\n",
              "      if (!google.colab.kernel.accessAllowed) {\n",
              "        return;\n",
              "      }\n",
              "      const div = document.createElement('div');\n",
              "      const label = document.createElement('label');\n",
              "      label.textContent = `Downloading \"${filename}\": `;\n",
              "      div.appendChild(label);\n",
              "      const progress = document.createElement('progress');\n",
              "      progress.max = size;\n",
              "      div.appendChild(progress);\n",
              "      document.body.appendChild(div);\n",
              "\n",
              "      const buffers = [];\n",
              "      let downloaded = 0;\n",
              "\n",
              "      const channel = await google.colab.kernel.comms.open(id);\n",
              "      // Send a message to notify the kernel that we're ready.\n",
              "      channel.send({})\n",
              "\n",
              "      for await (const message of channel.messages) {\n",
              "        // Send a message to notify the kernel that we're ready.\n",
              "        channel.send({})\n",
              "        if (message.buffers) {\n",
              "          for (const buffer of message.buffers) {\n",
              "            buffers.push(buffer);\n",
              "            downloaded += buffer.byteLength;\n",
              "            progress.value = downloaded;\n",
              "          }\n",
              "        }\n",
              "      }\n",
              "      const blob = new Blob(buffers, {type: 'application/binary'});\n",
              "      const a = document.createElement('a');\n",
              "      a.href = window.URL.createObjectURL(blob);\n",
              "      a.download = filename;\n",
              "      div.appendChild(a);\n",
              "      a.click();\n",
              "      div.remove();\n",
              "    }\n",
              "  "
            ]
          },
          "metadata": {}
        },
        {
          "output_type": "display_data",
          "data": {
            "text/plain": [
              "<IPython.core.display.Javascript object>"
            ],
            "application/javascript": [
              "download(\"download_dba52481-94b6-49d3-a8d5-18d7b05d1b5f\", \"reviewer_applicants.txt\", 350)"
            ]
          },
          "metadata": {}
        }
      ],
      "source": [
        "## ---------------------------- ##\n",
        "## Calculate assignment lengths ##\n",
        "## ---------------------------- ##\n",
        "reviewer_num = len(reviewers)\n",
        "applicant_num = len(applicants)\n",
        "min_num = floor(applicant_num * eyes / reviewer_num)\n",
        "remainder = (applicant_num * eyes) % reviewer_num\n",
        "# how many reviewers will be assigned the max_num, how many min_num?\n",
        "assign_max = remainder\n",
        "assign_min = reviewer_num - remainder\n",
        "\n",
        "\n",
        "def assign_reviewer():\n",
        "    ## ---------------------------- ##\n",
        "    ## Build up empty lists/dicts   ##\n",
        "    ## ---------------------------- ##\n",
        "    reviewer_counts = {} # keep track of how many students each reviewer is assigned\n",
        "    reviewer_dict = {} # keep a list of each applicant assigned to each reviewer\n",
        "    reviewer_list = [] # list of all reviewers\n",
        "    faculty_list = [] # subset list of faculty reviewers\n",
        "    trainee_list = [] # subset list of trainee (non-faculty) reviewers\n",
        "    max_list = [] # reviewers to be assigned the max number of applicants\n",
        "    min_list = [] # reviewers to be assigned the min number of applicants\n",
        "    # parse reviewer names, roles; build up reviewer lists/dictionaries\n",
        "    for reviewer in reviewers:\n",
        "        # parse name, role\n",
        "        for found in re.finditer(r\"^([\\w\\s]+)\\s(\\w+)$\",reviewer):\n",
        "            reviewer_counts[found.group(1).rstrip()] = 0\n",
        "            reviewer_dict[found.group(1).rstrip()] = []\n",
        "            reviewer_list.append(found.group(1).rstrip())\n",
        "            # assign to faculty_list or trainee_list\n",
        "            if found.group(2).lower() == \"faculty\":\n",
        "                faculty_list.append(found.group(1).rstrip())\n",
        "            else:\n",
        "                trainee_list.append(found.group(1).rstrip())\n",
        "            # assign to either max_list or min_list\n",
        "            list_assign = randrange(2)\n",
        "            if list_assign == 0 and len(min_list) >= assign_min:\n",
        "                list_assign = 1\n",
        "            elif list_assign == 1 and len(max_list) >= assign_max:\n",
        "                list_assign = 0\n",
        "            if list_assign == 0:\n",
        "                min_list.append(found.group(1).rstrip())\n",
        "            elif list_assign == 1:\n",
        "                max_list.append(found.group(1).rstrip())\n",
        "\n",
        "    applicant_dict = {} # keep a list of each reviewer assigned to each applicant\n",
        "    applicant_counts = {} # keep track of how many reviewers have been assigned\n",
        "    for applicant in applicants:\n",
        "        applicant_counts[applicant] = 0\n",
        "        applicant_dict[applicant] = []\n",
        "\n",
        "    ## ------------------------------ ##\n",
        "    ## Assign applicants to reviewers ##\n",
        "    ## ------------------------------ ##\n",
        "    \n",
        "    # trainees first\n",
        "    i = 0\n",
        "    for trainee in trainee_list:\n",
        "        rev_list = []\n",
        "        if trainee in min_list:\n",
        "            assign_num = min_num\n",
        "        elif trainee in max_list:\n",
        "            assign_num = min_num + 1\n",
        "        for x in range(assign_num):\n",
        "            i += 1\n",
        "            temp = applicants[randrange(applicant_num)]\n",
        "            while temp in rev_list or applicant_counts[temp] != 0:\n",
        "                i += 1\n",
        "                temp = applicants[randrange(applicant_num)]\n",
        "                if i > applicant_num * len(trainee_list) * eyes * 10000:\n",
        "                   return(False) \n",
        "            rev_list.append(temp)\n",
        "            applicant_counts[temp] += 1\n",
        "            reviewer_counts[trainee] += 1\n",
        "            applicant_dict[temp].append(trainee)\n",
        "            reviewer_dict[trainee].append(temp)\n",
        "\n",
        "    # faculty\n",
        "    i = 0\n",
        "    for faculty in faculty_list:\n",
        "        rev_list = []\n",
        "        if faculty in min_list:\n",
        "            assign_num = min_num\n",
        "        elif faculty in max_list:\n",
        "            assign_num = min_num + 1\n",
        "        for x in range(assign_num):\n",
        "            i += 1\n",
        "            temp = applicants[randrange(applicant_num)]\n",
        "            while temp in rev_list or applicant_counts[temp] == eyes:\n",
        "                i += 1\n",
        "                temp = applicants[randrange(applicant_num)]\n",
        "                if i > applicant_num * len(reviewer_list) * eyes * 10000:\n",
        "                   return(False)\n",
        "            rev_list.append(temp)\n",
        "            applicant_counts[temp] += 1\n",
        "            reviewer_counts[faculty] += 1\n",
        "            applicant_dict[temp].append(faculty)\n",
        "            reviewer_dict[faculty].append(temp)\n",
        "    return(applicant_dict, reviewer_dict)\n",
        "\n",
        "attempt = False\n",
        "while attempt == False:\n",
        "    attempt = assign_reviewer()\n",
        "applicant_dict, reviewer_dict = attempt\n",
        "\n",
        "## ------------------------------ ##\n",
        "## Print/save results             ##\n",
        "## ------------------------------ ##\n",
        "\n",
        "# save table of applicant: reviewers\n",
        "with open(\"applicants_reviewers.csv\",\"w\") as output:\n",
        "  output.write(\"Applicant,Reviewers\" + \",\"*(eyes-1) + \"\\n\")\n",
        "  print(\"\\n\\nApplicant\\tReviewers\")\n",
        "  for applicant in applicant_dict:\n",
        "      line = applicant\n",
        "      for reviewer in applicant_dict[applicant]:\n",
        "          line += \",\" + reviewer\n",
        "      output.write(line + \"\\n\")\n",
        "      print(line.replace(\",\",\"\\t\"))\n",
        "files.download(\"applicants_reviewers.csv\")\n",
        "\n",
        "\n",
        "# save table(s) of reviewer: applicants\n",
        "with open(\"reviewer_applicants.csv\",\"w\") as output, open(\"reviewer_applicants.txt\",\"w\") as txt:\n",
        "  output.write(\"Reviewer,Applicants\" + \",\"*(min_num) + \"\\n\")\n",
        "  print(\"\\n\\nReviewer\\tApplicants\")\n",
        "  for reviewer in reviewer_dict:\n",
        "      line = reviewer\n",
        "      txt.write(reviewer + \"\\n\")\n",
        "      for applicant in reviewer_dict[reviewer]:\n",
        "          line += \",\" + applicant\n",
        "          txt.write(\"\\t\" + applicant + \"\\n\")\n",
        "      while line.count(\",\") < min_num+1:\n",
        "        line += \",\"\n",
        "      output.write(line + \"\\n\")\n",
        "      print(line.replace(\",\",\"\\t\"))\n",
        "files.download(\"reviewer_applicants.csv\")\n",
        "files.download(\"reviewer_applicants.txt\")"
      ]
    }
  ],
  "metadata": {
    "kernelspec": {
      "display_name": "Python 3 (ipykernel)",
      "language": "python",
      "name": "python3"
    },
    "language_info": {
      "codemirror_mode": {
        "name": "ipython",
        "version": 3
      },
      "file_extension": ".py",
      "mimetype": "text/x-python",
      "name": "python",
      "nbconvert_exporter": "python",
      "pygments_lexer": "ipython3",
      "version": "3.9.13"
    },
    "colab": {
      "provenance": []
    }
  },
  "nbformat": 4,
  "nbformat_minor": 0
}