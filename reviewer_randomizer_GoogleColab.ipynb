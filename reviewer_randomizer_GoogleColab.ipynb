{
  "cells": [
    {
      "cell_type": "markdown",
      "metadata": {
        "id": "D-lFC39S4hYm"
      },
      "source": [
        "# Reviewer Randomizer\n",
        "\n",
        "**Inputs:**\n",
        "1. Number of people to be assigned to each applicant.\n",
        "2. List of reviewer names.\n",
        "3. List of applicant names.\n",
        "\n",
        "**Outputs:**\n",
        "1. Table of applicants with randomly assigned reviewers.\n",
        "2. Table of reviewers with assigned applicants to review.\n",
        "3. Text file with reviewer names and their assigned applicants.\n",
        "\n",
        "*(Both output tables contain the same information in different format.)*"
      ]
    },
    {
      "cell_type": "code",
      "execution_count": 1,
      "metadata": {
        "id": "FBc83fJf4hYr"
      },
      "outputs": [],
      "source": [
        "# Load packages\n",
        "from random import randrange\n",
        "from math import floor\n",
        "import re\n",
        "from google.colab import files"
      ]
    },
    {
      "cell_type": "markdown",
      "source": [
        "### Enter inputs:\n",
        "* **Number of eyes on each application** (`eyes`)\n",
        "* **Reviewer names** (`reviewers`) - each reviewer on a new line; 3 quotes (`\"\"\"`) at the beginning and end of the list. Names can be first and last or just first; first and last names separated by space or a tab (doesn't matter). Role should be listed after each name (\"faculty\", \"postdoc\", \"student\", etc.). You should be able to paste the list in from excel if desired.\n",
        "* **Applicant names** (`applicants`) - same layout as reviewers (but no role required)"
      ],
      "metadata": {
        "id": "WI9lKcV6a6dC"
      }
    },
    {
      "cell_type": "code",
      "execution_count": 2,
      "metadata": {
        "id": "Jf2BRYn44hYt"
      },
      "outputs": [],
      "source": [
        "# Number of people assigned to each applicant.\n",
        "eyes = 3"
      ]
    },
    {
      "cell_type": "code",
      "execution_count": 3,
      "metadata": {
        "id": "E6pWhwkp4hYu"
      },
      "outputs": [],
      "source": [
        "# Input list of reviewers & their roles. \n",
        "# Need 3 quotation marks at beginning and end of LIST only. \n",
        "# Each reviewer should be on a new line.\n",
        "# Case does not matter.\n",
        "reviewers = \"\"\"Gary   Faculty\n",
        "Tianyi   Faculty\n",
        "Kevin    Faculty\n",
        "Larry  Faculty\n",
        "Henrique    Faculty\n",
        "Eric    Faculty\n",
        "Kelly  Faculty\n",
        "Yessica Student\n",
        "Nina  Student\n",
        "Jennifer    Student\n",
        "Marissa  Postdoc\"\"\"\n",
        "reviewers = reviewers.replace(\"\\t\", \" \").split(\"\\n\")"
      ]
    },
    {
      "cell_type": "code",
      "execution_count": 4,
      "metadata": {
        "id": "_GcN3Vow4hYv"
      },
      "outputs": [],
      "source": [
        "# Input list of applicants. \n",
        "# Need 3 quotation marks at beginning and end of list only. \n",
        "# Each applicant should be on a new line.\n",
        "applicants = \"\"\"Yura\tKosmatka\n",
        "Jarl\tDunn\n",
        "Juli\tMarshall\n",
        "Elicia\tMoss\n",
        "Cillin\tJankovic\n",
        "Mahihkan\tAlan\n",
        "Agata\tConfortola\n",
        "Snezhana\tHadaway\n",
        "Ekwueme\tRake\n",
        "Deidra\tTreacy\n",
        "Ambrosius\tEldred\n",
        "Ansgar\tKarl\n",
        "Stanislava\tIvankov\"\"\"\n",
        "applicants = applicants.replace(\"\\t\", \" \").split(\"\\n\")"
      ]
    },
    {
      "cell_type": "markdown",
      "source": [
        "### Run Script, Export Excel Sheets"
      ],
      "metadata": {
        "id": "wTk8LFiQbnEa"
      }
    },
    {
      "cell_type": "code",
      "execution_count": 5,
      "metadata": {
        "colab": {
          "base_uri": "https://localhost:8080/",
          "height": 538
        },
        "id": "AebegZdv4hYw",
        "outputId": "64fd7ca6-c580-4359-97a8-f908503e53ec"
      },
      "outputs": [
        {
          "output_type": "stream",
          "name": "stdout",
          "text": [
            "\n",
            "\n",
            "Applicant\tReviewers\n",
            "Yura Kosmatka\tYessica\tLarry\tHenrique\n",
            "Jarl Dunn\tJennifer\tTianyi\tEric\n",
            "Juli Marshall\tMarissa\tKevin\tLarry\n",
            "Elicia Moss\tYessica\tEric\tKelly\n",
            "Cillin Jankovic\tNina\tGary\tKevin\n",
            "Mahihkan Alan\tNina\tGary\tTianyi\n",
            "Agata Confortola\tJennifer\tHenrique\tKelly\n",
            "Snezhana Hadaway\tJennifer\tLarry\tEric\n",
            "Ekwueme Rake\tMarissa\tTianyi\tHenrique\n",
            "Deidra Treacy\tNina\tGary\tLarry\n",
            "Ambrosius Eldred\tMarissa\tGary\tTianyi\n",
            "Ansgar Karl\tYessica\tKevin\tEric\n",
            "Stanislava Ivankov\tYessica\tKevin\tKelly\n"
          ]
        },
        {
          "output_type": "display_data",
          "data": {
            "text/plain": [
              "<IPython.core.display.Javascript object>"
            ],
            "application/javascript": [
              "\n",
              "    async function download(id, filename, size) {\n",
              "      if (!google.colab.kernel.accessAllowed) {\n",
              "        return;\n",
              "      }\n",
              "      const div = document.createElement('div');\n",
              "      const label = document.createElement('label');\n",
              "      label.textContent = `Downloading \"${filename}\": `;\n",
              "      div.appendChild(label);\n",
              "      const progress = document.createElement('progress');\n",
              "      progress.max = size;\n",
              "      div.appendChild(progress);\n",
              "      document.body.appendChild(div);\n",
              "\n",
              "      const buffers = [];\n",
              "      let downloaded = 0;\n",
              "\n",
              "      const channel = await google.colab.kernel.comms.open(id);\n",
              "      // Send a message to notify the kernel that we're ready.\n",
              "      channel.send({})\n",
              "\n",
              "      for await (const message of channel.messages) {\n",
              "        // Send a message to notify the kernel that we're ready.\n",
              "        channel.send({})\n",
              "        if (message.buffers) {\n",
              "          for (const buffer of message.buffers) {\n",
              "            buffers.push(buffer);\n",
              "            downloaded += buffer.byteLength;\n",
              "            progress.value = downloaded;\n",
              "          }\n",
              "        }\n",
              "      }\n",
              "      const blob = new Blob(buffers, {type: 'application/binary'});\n",
              "      const a = document.createElement('a');\n",
              "      a.href = window.URL.createObjectURL(blob);\n",
              "      a.download = filename;\n",
              "      div.appendChild(a);\n",
              "      a.click();\n",
              "      div.remove();\n",
              "    }\n",
              "  "
            ]
          },
          "metadata": {}
        },
        {
          "output_type": "display_data",
          "data": {
            "text/plain": [
              "<IPython.core.display.Javascript object>"
            ],
            "application/javascript": [
              "download(\"download_ba0f34d5-4689-4da4-9b4c-d96384090c12\", \"applicants_reviewers.csv\", 470)"
            ]
          },
          "metadata": {}
        },
        {
          "output_type": "stream",
          "name": "stdout",
          "text": [
            "\n",
            "\n",
            "Reviewer\tApplicants\n",
            "Gary\tMahihkan Alan\tDeidra Treacy\tCillin Jankovic\tAmbrosius Eldred\n",
            "Tianyi\tAmbrosius Eldred\tMahihkan Alan\tJarl Dunn\tEkwueme Rake\n",
            "Kevin\tCillin Jankovic\tJuli Marshall\tStanislava Ivankov\tAnsgar Karl\n",
            "Larry\tJuli Marshall\tSnezhana Hadaway\tDeidra Treacy\tYura Kosmatka\n",
            "Henrique\tEkwueme Rake\tYura Kosmatka\tAgata Confortola\t\n",
            "Eric\tJarl Dunn\tAnsgar Karl\tSnezhana Hadaway\tElicia Moss\n",
            "Kelly\tElicia Moss\tStanislava Ivankov\tAgata Confortola\t\n",
            "Yessica\tStanislava Ivankov\tElicia Moss\tYura Kosmatka\tAnsgar Karl\n",
            "Nina\tDeidra Treacy\tCillin Jankovic\tMahihkan Alan\t\n",
            "Jennifer\tJarl Dunn\tSnezhana Hadaway\tAgata Confortola\t\n",
            "Marissa\tJuli Marshall\tAmbrosius Eldred\tEkwueme Rake\t\n"
          ]
        },
        {
          "output_type": "display_data",
          "data": {
            "text/plain": [
              "<IPython.core.display.Javascript object>"
            ],
            "application/javascript": [
              "\n",
              "    async function download(id, filename, size) {\n",
              "      if (!google.colab.kernel.accessAllowed) {\n",
              "        return;\n",
              "      }\n",
              "      const div = document.createElement('div');\n",
              "      const label = document.createElement('label');\n",
              "      label.textContent = `Downloading \"${filename}\": `;\n",
              "      div.appendChild(label);\n",
              "      const progress = document.createElement('progress');\n",
              "      progress.max = size;\n",
              "      div.appendChild(progress);\n",
              "      document.body.appendChild(div);\n",
              "\n",
              "      const buffers = [];\n",
              "      let downloaded = 0;\n",
              "\n",
              "      const channel = await google.colab.kernel.comms.open(id);\n",
              "      // Send a message to notify the kernel that we're ready.\n",
              "      channel.send({})\n",
              "\n",
              "      for await (const message of channel.messages) {\n",
              "        // Send a message to notify the kernel that we're ready.\n",
              "        channel.send({})\n",
              "        if (message.buffers) {\n",
              "          for (const buffer of message.buffers) {\n",
              "            buffers.push(buffer);\n",
              "            downloaded += buffer.byteLength;\n",
              "            progress.value = downloaded;\n",
              "          }\n",
              "        }\n",
              "      }\n",
              "      const blob = new Blob(buffers, {type: 'application/binary'});\n",
              "      const a = document.createElement('a');\n",
              "      a.href = window.URL.createObjectURL(blob);\n",
              "      a.download = filename;\n",
              "      div.appendChild(a);\n",
              "      a.click();\n",
              "      div.remove();\n",
              "    }\n",
              "  "
            ]
          },
          "metadata": {}
        },
        {
          "output_type": "display_data",
          "data": {
            "text/plain": [
              "<IPython.core.display.Javascript object>"
            ],
            "application/javascript": [
              "download(\"download_5474beb2-9ca4-43a3-b17c-0bc13206be99\", \"reviewer_applicants.csv\", 669)"
            ]
          },
          "metadata": {}
        },
        {
          "output_type": "display_data",
          "data": {
            "text/plain": [
              "<IPython.core.display.Javascript object>"
            ],
            "application/javascript": [
              "\n",
              "    async function download(id, filename, size) {\n",
              "      if (!google.colab.kernel.accessAllowed) {\n",
              "        return;\n",
              "      }\n",
              "      const div = document.createElement('div');\n",
              "      const label = document.createElement('label');\n",
              "      label.textContent = `Downloading \"${filename}\": `;\n",
              "      div.appendChild(label);\n",
              "      const progress = document.createElement('progress');\n",
              "      progress.max = size;\n",
              "      div.appendChild(progress);\n",
              "      document.body.appendChild(div);\n",
              "\n",
              "      const buffers = [];\n",
              "      let downloaded = 0;\n",
              "\n",
              "      const channel = await google.colab.kernel.comms.open(id);\n",
              "      // Send a message to notify the kernel that we're ready.\n",
              "      channel.send({})\n",
              "\n",
              "      for await (const message of channel.messages) {\n",
              "        // Send a message to notify the kernel that we're ready.\n",
              "        channel.send({})\n",
              "        if (message.buffers) {\n",
              "          for (const buffer of message.buffers) {\n",
              "            buffers.push(buffer);\n",
              "            downloaded += buffer.byteLength;\n",
              "            progress.value = downloaded;\n",
              "          }\n",
              "        }\n",
              "      }\n",
              "      const blob = new Blob(buffers, {type: 'application/binary'});\n",
              "      const a = document.createElement('a');\n",
              "      a.href = window.URL.createObjectURL(blob);\n",
              "      a.download = filename;\n",
              "      div.appendChild(a);\n",
              "      a.click();\n",
              "      div.remove();\n",
              "    }\n",
              "  "
            ]
          },
          "metadata": {}
        },
        {
          "output_type": "display_data",
          "data": {
            "text/plain": [
              "<IPython.core.display.Javascript object>"
            ],
            "application/javascript": [
              "download(\"download_721b621a-1c44-42c5-9906-97af3d33fe73\", \"reviewer_applicants.txt\", 680)"
            ]
          },
          "metadata": {}
        }
      ],
      "source": [
        "## ---------------------------- ##\n",
        "## Calculate assignment lengths ##\n",
        "## ---------------------------- ##\n",
        "reviewer_num = len(reviewers)\n",
        "applicant_num = len(applicants)\n",
        "min_num = floor(applicant_num * eyes / reviewer_num)\n",
        "remainder = (applicant_num * eyes) % reviewer_num\n",
        "# how many reviewers will be assigned the max_num, how many min_num?\n",
        "assign_max = remainder\n",
        "assign_min = reviewer_num - remainder\n",
        "\n",
        "\n",
        "def assign_reviewer():\n",
        "    ## ---------------------------- ##\n",
        "    ## Build up empty lists/dicts   ##\n",
        "    ## ---------------------------- ##\n",
        "    reviewer_counts = {} # keep track of how many students each reviewer is assigned\n",
        "    reviewer_dict = {} # keep a list of each applicant assigned to each reviewer\n",
        "    reviewer_list = [] # list of all reviewers\n",
        "    faculty_list = [] # subset list of faculty reviewers\n",
        "    trainee_list = [] # subset list of trainee (non-faculty) reviewers\n",
        "    max_list = [] # reviewers to be assigned the max number of applicants\n",
        "    min_list = [] # reviewers to be assigned the min number of applicants\n",
        "    # parse reviewer names, roles; build up reviewer lists/dictionaries\n",
        "    for reviewer in reviewers:\n",
        "        # parse name, role\n",
        "        for found in re.finditer(r\"^([\\w\\s]+)\\s(\\w+)$\",reviewer):\n",
        "            reviewer_counts[found.group(1).rstrip()] = 0\n",
        "            reviewer_dict[found.group(1).rstrip()] = []\n",
        "            reviewer_list.append(found.group(1).rstrip())\n",
        "            # assign to faculty_list or trainee_list\n",
        "            if found.group(2).lower() == \"faculty\":\n",
        "                faculty_list.append(found.group(1).rstrip())\n",
        "            else:\n",
        "                trainee_list.append(found.group(1).rstrip())\n",
        "            # assign to either max_list or min_list\n",
        "            list_assign = randrange(2)\n",
        "            if list_assign == 0 and len(min_list) >= assign_min:\n",
        "                list_assign = 1\n",
        "            elif list_assign == 1 and len(max_list) >= assign_max:\n",
        "                list_assign = 0\n",
        "            if list_assign == 0:\n",
        "                min_list.append(found.group(1).rstrip())\n",
        "            elif list_assign == 1:\n",
        "                max_list.append(found.group(1).rstrip())\n",
        "\n",
        "    applicant_dict = {} # keep a list of each reviewer assigned to each applicant\n",
        "    applicant_counts = {} # keep track of how many reviewers have been assigned\n",
        "    for applicant in applicants:\n",
        "        applicant_counts[applicant] = 0\n",
        "        applicant_dict[applicant] = []\n",
        "\n",
        "    ## ------------------------------ ##\n",
        "    ## Assign applicants to reviewers ##\n",
        "    ## ------------------------------ ##\n",
        "    \n",
        "    # trainees first\n",
        "    i = 0\n",
        "    for trainee in trainee_list:\n",
        "        rev_list = []\n",
        "        if trainee in min_list:\n",
        "            assign_num = min_num\n",
        "        elif trainee in max_list:\n",
        "            assign_num = min_num + 1\n",
        "        for x in range(assign_num):\n",
        "            i += 1\n",
        "            temp = applicants[randrange(applicant_num)]\n",
        "            while temp in rev_list or applicant_counts[temp] != 0:\n",
        "                i += 1\n",
        "                temp = applicants[randrange(applicant_num)]\n",
        "                if i > applicant_num * len(trainee_list) * eyes * 10000:\n",
        "                   return(False) \n",
        "            rev_list.append(temp)\n",
        "            applicant_counts[temp] += 1\n",
        "            reviewer_counts[trainee] += 1\n",
        "            applicant_dict[temp].append(trainee)\n",
        "            reviewer_dict[trainee].append(temp)\n",
        "\n",
        "    # faculty\n",
        "    i = 0\n",
        "    for faculty in faculty_list:\n",
        "        rev_list = []\n",
        "        if faculty in min_list:\n",
        "            assign_num = min_num\n",
        "        elif faculty in max_list:\n",
        "            assign_num = min_num + 1\n",
        "        for x in range(assign_num):\n",
        "            i += 1\n",
        "            temp = applicants[randrange(applicant_num)]\n",
        "            while temp in rev_list or applicant_counts[temp] == eyes:\n",
        "                i += 1\n",
        "                temp = applicants[randrange(applicant_num)]\n",
        "                if i > applicant_num * len(reviewer_list) * eyes * 10000:\n",
        "                   return(False)\n",
        "            rev_list.append(temp)\n",
        "            applicant_counts[temp] += 1\n",
        "            reviewer_counts[faculty] += 1\n",
        "            applicant_dict[temp].append(faculty)\n",
        "            reviewer_dict[faculty].append(temp)\n",
        "    return(applicant_dict, reviewer_dict)\n",
        "\n",
        "# Keep trying the assignment function until it succeeds\n",
        "attempt = False\n",
        "while attempt == False:\n",
        "    attempt = assign_reviewer()\n",
        "applicant_dict, reviewer_dict = attempt\n",
        "\n",
        "## ------------------------------ ##\n",
        "## Print/save results             ##\n",
        "## ------------------------------ ##\n",
        "\n",
        "# save table of applicant: reviewers\n",
        "with open(\"applicants_reviewers.csv\",\"w\") as output:\n",
        "  output.write(\"Applicant,Reviewers\" + \",\"*(eyes-1) + \"\\n\")\n",
        "  print(\"\\n\\nApplicant\\tReviewers\")\n",
        "  for applicant in applicant_dict:\n",
        "      line = applicant\n",
        "      for reviewer in applicant_dict[applicant]:\n",
        "          line += \",\" + reviewer\n",
        "      output.write(line + \"\\n\")\n",
        "      print(line.replace(\",\",\"\\t\"))\n",
        "files.download(\"applicants_reviewers.csv\")\n",
        "\n",
        "\n",
        "# save table(s) of reviewer: applicants\n",
        "with open(\"reviewer_applicants.csv\",\"w\") as output, open(\"reviewer_applicants.txt\",\"w\") as txt:\n",
        "  output.write(\"Reviewer,Applicants\" + \",\"*(min_num) + \"\\n\")\n",
        "  print(\"\\n\\nReviewer\\tApplicants\")\n",
        "  for reviewer in reviewer_dict:\n",
        "      line = reviewer\n",
        "      txt.write(reviewer + \"\\n\")\n",
        "      for applicant in reviewer_dict[reviewer]:\n",
        "          line += \",\" + applicant\n",
        "          txt.write(\"\\t\" + applicant + \"\\n\")\n",
        "      while line.count(\",\") < min_num+1:\n",
        "        line += \",\"\n",
        "      output.write(line + \"\\n\")\n",
        "      print(line.replace(\",\",\"\\t\"))\n",
        "files.download(\"reviewer_applicants.csv\")\n",
        "files.download(\"reviewer_applicants.txt\")"
      ]
    }
  ],
  "metadata": {
    "kernelspec": {
      "display_name": "Python 3 (ipykernel)",
      "language": "python",
      "name": "python3"
    },
    "language_info": {
      "codemirror_mode": {
        "name": "ipython",
        "version": 3
      },
      "file_extension": ".py",
      "mimetype": "text/x-python",
      "name": "python",
      "nbconvert_exporter": "python",
      "pygments_lexer": "ipython3",
      "version": "3.9.13"
    },
    "colab": {
      "provenance": []
    }
  },
  "nbformat": 4,
  "nbformat_minor": 0
}