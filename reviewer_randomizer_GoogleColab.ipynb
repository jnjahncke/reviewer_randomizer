{
  "cells": [
    {
      "cell_type": "markdown",
      "metadata": {
        "id": "D-lFC39S4hYm"
      },
      "source": [
        "# Reviewer Randomizer\n",
        "\n",
        "**Inputs:**\n",
        "1. Number of people to be assigned to each applicant.\n",
        "2. List of reviewer names.\n",
        "3. List of applicant names.\n",
        "\n",
        "**Outputs:**\n",
        "1. Table of applicants with randomly assigned reviewers.\n",
        "2. Table of reviewers with assigned applicants to review.\n",
        "3. Text file with reviewer names and their assigned applicants.\n",
        "\n",
        "*(Both output tables contain the same information in different format.)*"
      ]
    },
    {
      "cell_type": "code",
      "execution_count": null,
      "metadata": {
        "id": "FBc83fJf4hYr"
      },
      "outputs": [],
      "source": [
        "# Load packages\n",
        "from random import randrange\n",
        "from math import floor\n",
        "import re\n",
        "from google.colab import files"
      ]
    },
    {
      "cell_type": "markdown",
      "source": [
        "### Enter inputs:\n",
        "* **Number of eyes on each application** (`eyes`)\n",
        "* **Reviewer names** (`reviewers`) - each reviewer on a new line; 3 quotes (`\"\"\"`) at the beginning and end of the list. Names can be first and last or just first; first and last names separated by space or a tab (doesn't matter). Role should be listed after each name (\"faculty\", \"postdoc\", \"student\", etc.). You should be able to paste the list in from excel if desired.\n",
        "* **Applicant names** (`applicants`) - same layout as reviewers (but no role required)"
      ],
      "metadata": {
        "id": "WI9lKcV6a6dC"
      }
    },
    {
      "cell_type": "code",
      "execution_count": null,
      "metadata": {
        "id": "Jf2BRYn44hYt",
        "cellView": "form"
      },
      "outputs": [],
      "source": [
        "eyes = 3 #@param {type:\"integer\"}\n",
        "# Number of people assigned to each applicant.\n"
      ]
    },
    {
      "cell_type": "code",
      "execution_count": null,
      "metadata": {
        "id": "E6pWhwkp4hYu"
      },
      "outputs": [],
      "source": [
        "# Input list of reviewers & their roles. \n",
        "# Need 3 quotation marks at beginning and end of LIST only. \n",
        "# Each reviewer should be on a new line.\n",
        "# Case does not matter.\n",
        "reviewers = \"\"\"Gary   Faculty\n",
        "Tianyi   Faculty\n",
        "Kevin    Faculty\n",
        "Larry  Faculty\n",
        "Henrique    Faculty\n",
        "Eric    Faculty\n",
        "Kelly  Faculty\n",
        "Yessica Student\n",
        "Nina  Student\n",
        "Jennifer    Student\n",
        "Marissa  Postdoc\"\"\"\n",
        "reviewers = reviewers.replace(\"\\t\", \" \").split(\"\\n\")"
      ]
    },
    {
      "cell_type": "code",
      "execution_count": null,
      "metadata": {
        "id": "_GcN3Vow4hYv"
      },
      "outputs": [],
      "source": [
        "# Input list of applicants. \n",
        "# Need 3 quotation marks at beginning and end of list only. \n",
        "# Each applicant should be on a new line.\n",
        "applicants = \"\"\"Yura\tKosmatka\n",
        "Jarl\tDunn\n",
        "Juli\tMarshall\n",
        "Elicia\tMoss\n",
        "Cillin\tJankovic\n",
        "Mahihkan\tAlan\n",
        "Agata\tConfortola\n",
        "Snezhana\tHadaway\n",
        "Ekwueme\tRake\n",
        "Deidra\tTreacy\n",
        "Ambrosius\tEldred\n",
        "Ansgar\tKarl\n",
        "Stanislava\tIvankov\"\"\"\n",
        "applicants = applicants.replace(\"\\t\", \" \").split(\"\\n\")"
      ]
    },
    {
      "cell_type": "markdown",
      "source": [
        "### Run Script, Export Excel Sheets"
      ],
      "metadata": {
        "id": "wTk8LFiQbnEa"
      }
    },
    {
      "cell_type": "code",
      "execution_count": null,
      "metadata": {
        "colab": {
          "base_uri": "https://localhost:8080/",
          "height": 538
        },
        "id": "AebegZdv4hYw",
        "outputId": "cf8485eb-1c32-4a48-9399-bb60f121ebd5",
        "cellView": "form"
      },
      "outputs": [
        {
          "output_type": "stream",
          "name": "stdout",
          "text": [
            "\n",
            "\n",
            "Applicant\tReviewers\n",
            "Yura Kosmatka\tNina\tGary\tTianyi\n",
            "Jarl Dunn\tMarissa\tLarry\tHenrique\n",
            "Juli Marshall\tYessica\tHenrique\tEric\n",
            "Elicia Moss\tJennifer\tTianyi\tHenrique\n",
            "Cillin Jankovic\tJennifer\tKevin\tKelly\n",
            "Mahihkan Alan\tYessica\tGary\tLarry\n",
            "Agata Confortola\tJennifer\tGary\tKelly\n",
            "Snezhana Hadaway\tYessica\tKevin\tLarry\n",
            "Ekwueme Rake\tNina\tGary\tEric\n",
            "Deidra Treacy\tJennifer\tKevin\tLarry\n",
            "Ambrosius Eldred\tMarissa\tEric\tKelly\n",
            "Ansgar Karl\tMarissa\tHenrique\tKelly\n",
            "Stanislava Ivankov\tNina\tTianyi\tKevin\n"
          ]
        },
        {
          "output_type": "display_data",
          "data": {
            "text/plain": [
              "<IPython.core.display.Javascript object>"
            ],
            "application/javascript": [
              "\n",
              "    async function download(id, filename, size) {\n",
              "      if (!google.colab.kernel.accessAllowed) {\n",
              "        return;\n",
              "      }\n",
              "      const div = document.createElement('div');\n",
              "      const label = document.createElement('label');\n",
              "      label.textContent = `Downloading \"${filename}\": `;\n",
              "      div.appendChild(label);\n",
              "      const progress = document.createElement('progress');\n",
              "      progress.max = size;\n",
              "      div.appendChild(progress);\n",
              "      document.body.appendChild(div);\n",
              "\n",
              "      const buffers = [];\n",
              "      let downloaded = 0;\n",
              "\n",
              "      const channel = await google.colab.kernel.comms.open(id);\n",
              "      // Send a message to notify the kernel that we're ready.\n",
              "      channel.send({})\n",
              "\n",
              "      for await (const message of channel.messages) {\n",
              "        // Send a message to notify the kernel that we're ready.\n",
              "        channel.send({})\n",
              "        if (message.buffers) {\n",
              "          for (const buffer of message.buffers) {\n",
              "            buffers.push(buffer);\n",
              "            downloaded += buffer.byteLength;\n",
              "            progress.value = downloaded;\n",
              "          }\n",
              "        }\n",
              "      }\n",
              "      const blob = new Blob(buffers, {type: 'application/binary'});\n",
              "      const a = document.createElement('a');\n",
              "      a.href = window.URL.createObjectURL(blob);\n",
              "      a.download = filename;\n",
              "      div.appendChild(a);\n",
              "      a.click();\n",
              "      div.remove();\n",
              "    }\n",
              "  "
            ]
          },
          "metadata": {}
        },
        {
          "output_type": "display_data",
          "data": {
            "text/plain": [
              "<IPython.core.display.Javascript object>"
            ],
            "application/javascript": [
              "download(\"download_9ab2b6b0-844e-4ed6-bebe-f703bb0dfc39\", \"applicants_reviewers.csv\", 474)"
            ]
          },
          "metadata": {}
        },
        {
          "output_type": "stream",
          "name": "stdout",
          "text": [
            "\n",
            "\n",
            "Reviewer\tApplicants\n",
            "Gary\tYura Kosmatka\tEkwueme Rake\tMahihkan Alan\tAgata Confortola\n",
            "Tianyi\tElicia Moss\tStanislava Ivankov\tYura Kosmatka\t\n",
            "Kevin\tCillin Jankovic\tStanislava Ivankov\tDeidra Treacy\tSnezhana Hadaway\n",
            "Larry\tJarl Dunn\tSnezhana Hadaway\tDeidra Treacy\tMahihkan Alan\n",
            "Henrique\tElicia Moss\tJarl Dunn\tAnsgar Karl\tJuli Marshall\n",
            "Eric\tAmbrosius Eldred\tEkwueme Rake\tJuli Marshall\t\n",
            "Kelly\tAgata Confortola\tAnsgar Karl\tAmbrosius Eldred\tCillin Jankovic\n",
            "Yessica\tMahihkan Alan\tJuli Marshall\tSnezhana Hadaway\t\n",
            "Nina\tEkwueme Rake\tStanislava Ivankov\tYura Kosmatka\t\n",
            "Jennifer\tCillin Jankovic\tAgata Confortola\tElicia Moss\tDeidra Treacy\n",
            "Marissa\tJarl Dunn\tAnsgar Karl\tAmbrosius Eldred\t\n"
          ]
        },
        {
          "output_type": "display_data",
          "data": {
            "text/plain": [
              "<IPython.core.display.Javascript object>"
            ],
            "application/javascript": [
              "\n",
              "    async function download(id, filename, size) {\n",
              "      if (!google.colab.kernel.accessAllowed) {\n",
              "        return;\n",
              "      }\n",
              "      const div = document.createElement('div');\n",
              "      const label = document.createElement('label');\n",
              "      label.textContent = `Downloading \"${filename}\": `;\n",
              "      div.appendChild(label);\n",
              "      const progress = document.createElement('progress');\n",
              "      progress.max = size;\n",
              "      div.appendChild(progress);\n",
              "      document.body.appendChild(div);\n",
              "\n",
              "      const buffers = [];\n",
              "      let downloaded = 0;\n",
              "\n",
              "      const channel = await google.colab.kernel.comms.open(id);\n",
              "      // Send a message to notify the kernel that we're ready.\n",
              "      channel.send({})\n",
              "\n",
              "      for await (const message of channel.messages) {\n",
              "        // Send a message to notify the kernel that we're ready.\n",
              "        channel.send({})\n",
              "        if (message.buffers) {\n",
              "          for (const buffer of message.buffers) {\n",
              "            buffers.push(buffer);\n",
              "            downloaded += buffer.byteLength;\n",
              "            progress.value = downloaded;\n",
              "          }\n",
              "        }\n",
              "      }\n",
              "      const blob = new Blob(buffers, {type: 'application/binary'});\n",
              "      const a = document.createElement('a');\n",
              "      a.href = window.URL.createObjectURL(blob);\n",
              "      a.download = filename;\n",
              "      div.appendChild(a);\n",
              "      a.click();\n",
              "      div.remove();\n",
              "    }\n",
              "  "
            ]
          },
          "metadata": {}
        },
        {
          "output_type": "display_data",
          "data": {
            "text/plain": [
              "<IPython.core.display.Javascript object>"
            ],
            "application/javascript": [
              "download(\"download_d59db9f8-78ef-40ff-b796-be8860d6e0d0\", \"reviewer_applicants.csv\", 669)"
            ]
          },
          "metadata": {}
        },
        {
          "output_type": "display_data",
          "data": {
            "text/plain": [
              "<IPython.core.display.Javascript object>"
            ],
            "application/javascript": [
              "\n",
              "    async function download(id, filename, size) {\n",
              "      if (!google.colab.kernel.accessAllowed) {\n",
              "        return;\n",
              "      }\n",
              "      const div = document.createElement('div');\n",
              "      const label = document.createElement('label');\n",
              "      label.textContent = `Downloading \"${filename}\": `;\n",
              "      div.appendChild(label);\n",
              "      const progress = document.createElement('progress');\n",
              "      progress.max = size;\n",
              "      div.appendChild(progress);\n",
              "      document.body.appendChild(div);\n",
              "\n",
              "      const buffers = [];\n",
              "      let downloaded = 0;\n",
              "\n",
              "      const channel = await google.colab.kernel.comms.open(id);\n",
              "      // Send a message to notify the kernel that we're ready.\n",
              "      channel.send({})\n",
              "\n",
              "      for await (const message of channel.messages) {\n",
              "        // Send a message to notify the kernel that we're ready.\n",
              "        channel.send({})\n",
              "        if (message.buffers) {\n",
              "          for (const buffer of message.buffers) {\n",
              "            buffers.push(buffer);\n",
              "            downloaded += buffer.byteLength;\n",
              "            progress.value = downloaded;\n",
              "          }\n",
              "        }\n",
              "      }\n",
              "      const blob = new Blob(buffers, {type: 'application/binary'});\n",
              "      const a = document.createElement('a');\n",
              "      a.href = window.URL.createObjectURL(blob);\n",
              "      a.download = filename;\n",
              "      div.appendChild(a);\n",
              "      a.click();\n",
              "      div.remove();\n",
              "    }\n",
              "  "
            ]
          },
          "metadata": {}
        },
        {
          "output_type": "display_data",
          "data": {
            "text/plain": [
              "<IPython.core.display.Javascript object>"
            ],
            "application/javascript": [
              "download(\"download_d61756c1-71da-4dcf-8e21-ae1917b52019\", \"reviewer_applicants.txt\", 680)"
            ]
          },
          "metadata": {}
        }
      ],
      "source": [
        "#@title\n",
        "#@markdown <-- Run script\n",
        "\n",
        "def assign_reviewer():\n",
        "\n",
        "    ## ---------------------------- ##\n",
        "    ## Calculate assignment lengths ##\n",
        "    ## ---------------------------- ##\n",
        "    reviewer_num = len(reviewers)\n",
        "    applicant_num = len(applicants)\n",
        "    min_num = floor(applicant_num * eyes / reviewer_num)\n",
        "    remainder = (applicant_num * eyes) % reviewer_num\n",
        "    # how many reviewers will be assigned the max_num, how many min_num?\n",
        "    assign_max = remainder\n",
        "    assign_min = reviewer_num - remainder\n",
        "\n",
        "    ## ---------------------------- ##\n",
        "    ## Build up empty lists/dicts   ##\n",
        "    ## ---------------------------- ##\n",
        "    reviewer_counts = {} # keep track of how many students each reviewer is assigned\n",
        "    reviewer_dict = {} # keep a list of each applicant assigned to each reviewer\n",
        "    reviewer_list = [] # list of all reviewers\n",
        "    faculty_list = [] # subset list of faculty reviewers\n",
        "    trainee_list = [] # subset list of trainee (non-faculty) reviewers\n",
        "    \n",
        "    # parse reviewer names, roles; build up reviewer lists/dictionaries\n",
        "    for reviewer in reviewers:\n",
        "        # parse name, role\n",
        "        for found in re.finditer(r\"^([\\S\\s]+)\\s(\\S+)$\",reviewer):\n",
        "            reviewer_counts[found.group(1).rstrip()] = 0\n",
        "            reviewer_dict[found.group(1).rstrip()] = []\n",
        "            reviewer_list.append(found.group(1).rstrip())\n",
        "            # assign to faculty_list or trainee_list\n",
        "            if found.group(2).lower() == \"faculty\":\n",
        "                faculty_list.append(found.group(1).rstrip())\n",
        "            else:\n",
        "                trainee_list.append(found.group(1).rstrip())\n",
        "\n",
        "    # assign reviewer to either be assigned the max or min number of applicants\n",
        "    # based on calculations above\n",
        "    max_list = reviewer_list[:assign_max]\n",
        "    min_list = reviewer_list[assign_max:]\n",
        "\n",
        "    applicant_dict = {} # keep a list of each reviewer assigned to each applicant\n",
        "    applicant_counts = {} # keep track of how many reviewers have been assigned\n",
        "    for applicant in applicants:\n",
        "        applicant_counts[applicant] = 0\n",
        "        applicant_dict[applicant] = []\n",
        "\n",
        "    ## ------------------------------ ##\n",
        "    ## Assign applicants to reviewers ##\n",
        "    ## ------------------------------ ##\n",
        "    \n",
        "    # trainees first\n",
        "    i = 0\n",
        "    for trainee in trainee_list:\n",
        "        rev_list = []\n",
        "        if trainee in min_list:\n",
        "            assign_num = min_num\n",
        "        elif trainee in max_list:\n",
        "            assign_num = min_num + 1\n",
        "        for x in range(assign_num):\n",
        "            i += 1\n",
        "            temp = applicants[randrange(applicant_num)]\n",
        "            while temp in rev_list or applicant_counts[temp] != 0:\n",
        "                i += 1\n",
        "                temp = applicants[randrange(applicant_num)]\n",
        "                if i > applicant_num * len(trainee_list) * eyes * 10:\n",
        "                   return(False) \n",
        "            if applicant_counts[temp] == eyes:\n",
        "                applicants.remove(temp)\n",
        "                applicant_num = len(applicants)\n",
        "            rev_list.append(temp)\n",
        "            applicant_counts[temp] += 1\n",
        "            reviewer_counts[trainee] += 1\n",
        "            applicant_dict[temp].append(trainee)\n",
        "            reviewer_dict[trainee].append(temp)\n",
        "\n",
        "    # faculty\n",
        "    i = 0\n",
        "    for faculty in faculty_list:\n",
        "        rev_list = []\n",
        "        if faculty in min_list:\n",
        "            assign_num = min_num\n",
        "        elif faculty in max_list:\n",
        "            assign_num = min_num + 1\n",
        "        for x in range(assign_num):\n",
        "            i += 1\n",
        "            temp = applicants[randrange(applicant_num)]\n",
        "            while temp in rev_list or applicant_counts[temp] == eyes:\n",
        "                i += 1\n",
        "                temp = applicants[randrange(applicant_num)]\n",
        "                if i > applicant_num * len(reviewer_list) * eyes * 10:\n",
        "                   return(False)\n",
        "            if applicant_counts[temp] == eyes:\n",
        "                applicants.remove(temp)\n",
        "                applicant_num = len(applicants)\n",
        "            rev_list.append(temp)\n",
        "            applicant_counts[temp] += 1\n",
        "            reviewer_counts[faculty] += 1\n",
        "            applicant_dict[temp].append(faculty)\n",
        "            reviewer_dict[faculty].append(temp)\n",
        "    return(applicant_dict, reviewer_dict)\n",
        "\n",
        "# Keep trying the assignment function until it succeeds\n",
        "attempt = False\n",
        "while attempt == False:\n",
        "    attempt = assign_reviewer()\n",
        "applicant_dict, reviewer_dict = attempt\n",
        "\n",
        "## ------------------------------ ##\n",
        "## Print/save results             ##\n",
        "## ------------------------------ ##\n",
        "\n",
        "# save table of applicant: reviewers\n",
        "with open(\"applicants_reviewers.csv\",\"w\") as output:\n",
        "  output.write(\"Applicant,Reviewers\" + \",\"*(eyes-1) + \"\\n\")\n",
        "  print(\"\\n\\nApplicant\\tReviewers\")\n",
        "  for applicant in applicant_dict:\n",
        "      line = applicant\n",
        "      for reviewer in applicant_dict[applicant]:\n",
        "          line += \",\" + reviewer\n",
        "      output.write(line + \"\\n\")\n",
        "      print(line.replace(\",\",\"\\t\"))\n",
        "files.download(\"applicants_reviewers.csv\")\n",
        "\n",
        "\n",
        "# save table(s) of reviewer: applicants\n",
        "with open(\"reviewer_applicants.csv\",\"w\") as output, open(\"reviewer_applicants.txt\",\"w\") as txt:\n",
        "  output.write(\"Reviewer,Applicants\" + \",\"*(min_num) + \"\\n\")\n",
        "  print(\"\\n\\nReviewer\\tApplicants\")\n",
        "  for reviewer in reviewer_dict:\n",
        "      line = reviewer\n",
        "      txt.write(reviewer + \"\\n\")\n",
        "      for applicant in reviewer_dict[reviewer]:\n",
        "          line += \",\" + applicant\n",
        "          txt.write(\"\\t\" + applicant + \"\\n\")\n",
        "      while line.count(\",\") < min_num+1:\n",
        "        line += \",\"\n",
        "      output.write(line + \"\\n\")\n",
        "      print(line.replace(\",\",\"\\t\"))\n",
        "files.download(\"reviewer_applicants.csv\")\n",
        "files.download(\"reviewer_applicants.txt\")"
      ]
    }
  ],
  "metadata": {
    "kernelspec": {
      "display_name": "Python 3 (ipykernel)",
      "language": "python",
      "name": "python3"
    },
    "language_info": {
      "codemirror_mode": {
        "name": "ipython",
        "version": 3
      },
      "file_extension": ".py",
      "mimetype": "text/x-python",
      "name": "python",
      "nbconvert_exporter": "python",
      "pygments_lexer": "ipython3",
      "version": "3.9.13"
    },
    "colab": {
      "provenance": []
    }
  },
  "nbformat": 4,
  "nbformat_minor": 0
}
