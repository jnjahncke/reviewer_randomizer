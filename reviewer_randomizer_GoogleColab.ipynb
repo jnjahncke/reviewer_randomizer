{
  "cells": [
    {
      "cell_type": "markdown",
      "metadata": {
        "id": "D-lFC39S4hYm"
      },
      "source": [
        "# Reviewer Randomizer\n",
        "\n",
        "**Inputs:**\n",
        "1. List of reviewers\n",
        "2. Number of people to be assigned to each applicant\n",
        "3. List of applicants\n",
        "\n",
        "**Outputs:**\n",
        "\n",
        "Table of applicants with randomly assigned reviewers attached."
      ]
    },
    {
      "cell_type": "code",
      "execution_count": 50,
      "metadata": {
        "id": "FBc83fJf4hYr"
      },
      "outputs": [],
      "source": [
        "# Load packages\n",
        "from random import randrange\n",
        "from math import ceil\n",
        "from google.colab import files"
      ]
    },
    {
      "cell_type": "code",
      "execution_count": 51,
      "metadata": {
        "id": "Jf2BRYn44hYt"
      },
      "outputs": [],
      "source": [
        "# Number of people looking over each applicant.\n",
        "eyes = 3"
      ]
    },
    {
      "cell_type": "code",
      "execution_count": 52,
      "metadata": {
        "id": "E6pWhwkp4hYu"
      },
      "outputs": [],
      "source": [
        "# Input list of reviewers. Need 3 quotation marks at beginning and end of list only. Each reviewer should be on a new line.\n",
        "reviewers = \"\"\"Gary\n",
        "Tianyi\n",
        "Kevin\n",
        "Larry\n",
        "Henrique\n",
        "Eric\n",
        "Kelly\n",
        "Haining\n",
        "John\"\"\"\n",
        "reviewers = reviewers.replace(\"\\t\", \" \").split(\"\\n\")"
      ]
    },
    {
      "cell_type": "code",
      "execution_count": 53,
      "metadata": {
        "id": "_GcN3Vow4hYv"
      },
      "outputs": [],
      "source": [
        "# Input list of applicants. Need 3 quotation marks at beginning and end of list only. Each reviewer should be on a new line.\n",
        "applicants = \"\"\"A\tB\n",
        "C\tD\n",
        "E\tF\n",
        "G\tH\n",
        "I\tJ\n",
        "K\tL\n",
        "M\tN\n",
        "O\tP\n",
        "Q\tR\n",
        "S\tT\n",
        "U\tV\n",
        "W\tX\n",
        "Y\tZ\"\"\"\n",
        "applicants = applicants.replace(\"\\t\", \" \").split(\"\\n\")"
      ]
    },
    {
      "cell_type": "code",
      "execution_count": 54,
      "metadata": {
        "colab": {
          "base_uri": "https://localhost:8080/",
          "height": 260
        },
        "id": "AebegZdv4hYw",
        "outputId": "41af5579-2692-44cf-f55c-898c3c4045ad"
      },
      "outputs": [
        {
          "output_type": "stream",
          "name": "stdout",
          "text": [
            "Applicant\tReviewers\n",
            "A B\tKelly\tHenrique\tJohn\n",
            "C D\tTianyi\tEric\tHenrique\n",
            "E F\tTianyi\tGary\tJohn\n",
            "G H\tKelly\tGary\tJohn\n",
            "I J\tKevin\tLarry\tEric\n",
            "K L\tKelly\tEric\tKevin\n",
            "M N\tKevin\tLarry\tTianyi\n",
            "O P\tTianyi\tJohn\tEric\n",
            "Q R\tLarry\tHenrique\tKevin\n",
            "S T\tJohn\tKelly\tGary\n",
            "U V\tKevin\tKelly\tLarry\n",
            "W X\tTianyi\tGary\tHenrique\n",
            "Y Z\tGary\tLarry\tHenrique\n"
          ]
        },
        {
          "output_type": "display_data",
          "data": {
            "text/plain": [
              "<IPython.core.display.Javascript object>"
            ],
            "application/javascript": [
              "\n",
              "    async function download(id, filename, size) {\n",
              "      if (!google.colab.kernel.accessAllowed) {\n",
              "        return;\n",
              "      }\n",
              "      const div = document.createElement('div');\n",
              "      const label = document.createElement('label');\n",
              "      label.textContent = `Downloading \"${filename}\": `;\n",
              "      div.appendChild(label);\n",
              "      const progress = document.createElement('progress');\n",
              "      progress.max = size;\n",
              "      div.appendChild(progress);\n",
              "      document.body.appendChild(div);\n",
              "\n",
              "      const buffers = [];\n",
              "      let downloaded = 0;\n",
              "\n",
              "      const channel = await google.colab.kernel.comms.open(id);\n",
              "      // Send a message to notify the kernel that we're ready.\n",
              "      channel.send({})\n",
              "\n",
              "      for await (const message of channel.messages) {\n",
              "        // Send a message to notify the kernel that we're ready.\n",
              "        channel.send({})\n",
              "        if (message.buffers) {\n",
              "          for (const buffer of message.buffers) {\n",
              "            buffers.push(buffer);\n",
              "            downloaded += buffer.byteLength;\n",
              "            progress.value = downloaded;\n",
              "          }\n",
              "        }\n",
              "      }\n",
              "      const blob = new Blob(buffers, {type: 'application/binary'});\n",
              "      const a = document.createElement('a');\n",
              "      a.href = window.URL.createObjectURL(blob);\n",
              "      a.download = filename;\n",
              "      div.appendChild(a);\n",
              "      a.click();\n",
              "      div.remove();\n",
              "    }\n",
              "  "
            ]
          },
          "metadata": {}
        },
        {
          "output_type": "display_data",
          "data": {
            "text/plain": [
              "<IPython.core.display.Javascript object>"
            ],
            "application/javascript": [
              "download(\"download_d107a886-d679-4735-884c-b5e1178c198a\", \"applicants_reviewers.csv\", 314)"
            ]
          },
          "metadata": {}
        }
      ],
      "source": [
        "reviewer_num = len(reviewers)\n",
        "applicant_num = len(applicants)\n",
        "max_num = ceil(applicant_num * eyes / reviewer_num)\n",
        "\n",
        "reviewer_counts = {} # keep track of how many students each reviewer is assigned\n",
        "reviewer_dict = {} # keep a list of each applicant assigned to each reviewer\n",
        "applicant_dict = {} # keep a list of each reviewer assigned to each applicant\n",
        "for reviewer in reviewers: # build reviewer dictionaries\n",
        "    reviewer_counts[reviewer] = 0\n",
        "    reviewer_dict[reviewer] = []\n",
        "\n",
        "# save table of applicant: reviewers\n",
        "with open(\"applicants_reviewers.csv\",\"w\") as output:\n",
        "  output.write(\"Applicant,Reviewers\" + \",\"*(eyes-1) + \"\\n\")\n",
        "  print(\"Applicant\\tReviewers\")\n",
        "  for applicant in applicants:\n",
        "      applicant_dict[applicant] = []\n",
        "      rev_list = []\n",
        "      line = applicant\n",
        "      for x in range(eyes):\n",
        "          temp = reviewers[randrange(reviewer_num)]\n",
        "          while temp in rev_list or reviewer_counts[temp] >= max_num:\n",
        "              temp = reviewers[randrange(reviewer_num)]\n",
        "          rev_list.append(temp)\n",
        "          reviewer_counts[temp] += 1\n",
        "          reviewer_dict[temp].append(applicant)\n",
        "          applicant_dict[applicant].append(temp)\n",
        "          line += \",\" + temp\n",
        "      output.write(line + \"\\n\")\n",
        "      print(line.replace(\",\",\"\\t\"))\n",
        "files.download(\"applicants_reviewers.csv\")"
      ]
    },
    {
      "cell_type": "code",
      "execution_count": 55,
      "metadata": {
        "colab": {
          "base_uri": "https://localhost:8080/"
        },
        "id": "bZlZt2nB4hYx",
        "outputId": "206bf237-60c1-4145-a05e-c3a990e74c9a"
      },
      "outputs": [
        {
          "output_type": "stream",
          "name": "stdout",
          "text": [
            "Gary\t5\n",
            "Tianyi\t5\n",
            "Kevin\t5\n",
            "Larry\t5\n",
            "Henrique\t5\n",
            "Eric\t4\n",
            "Kelly\t5\n",
            "Haining\t0\n",
            "John\t5\n"
          ]
        }
      ],
      "source": [
        "# check distribution of work\n",
        "for reviewer, count in reviewer_counts.items():\n",
        "    print(f\"{reviewer}\\t{count}\")"
      ]
    },
    {
      "cell_type": "code",
      "execution_count": 56,
      "metadata": {
        "colab": {
          "base_uri": "https://localhost:8080/",
          "height": 191
        },
        "id": "uec87A5q4hYy",
        "outputId": "4c29581c-1fe1-4b71-82fd-094402c9bcf2"
      },
      "outputs": [
        {
          "output_type": "stream",
          "name": "stdout",
          "text": [
            "Reviewer\tApplicants\n",
            "Gary\tE F\tG H\tS T\tW X\tY Z\n",
            "Tianyi\tC D\tE F\tM N\tO P\tW X\n",
            "Kevin\tI J\tK L\tM N\tQ R\tU V\n",
            "Larry\tI J\tM N\tQ R\tU V\tY Z\n",
            "Henrique\tA B\tC D\tQ R\tW X\tY Z\n",
            "Eric\tC D\tI J\tK L\tO P\t\n",
            "Kelly\tA B\tG H\tK L\tS T\tU V\n",
            "Haining\t\t\t\t\t\n",
            "John\tA B\tE F\tG H\tO P\tS T\n"
          ]
        },
        {
          "output_type": "display_data",
          "data": {
            "text/plain": [
              "<IPython.core.display.Javascript object>"
            ],
            "application/javascript": [
              "\n",
              "    async function download(id, filename, size) {\n",
              "      if (!google.colab.kernel.accessAllowed) {\n",
              "        return;\n",
              "      }\n",
              "      const div = document.createElement('div');\n",
              "      const label = document.createElement('label');\n",
              "      label.textContent = `Downloading \"${filename}\": `;\n",
              "      div.appendChild(label);\n",
              "      const progress = document.createElement('progress');\n",
              "      progress.max = size;\n",
              "      div.appendChild(progress);\n",
              "      document.body.appendChild(div);\n",
              "\n",
              "      const buffers = [];\n",
              "      let downloaded = 0;\n",
              "\n",
              "      const channel = await google.colab.kernel.comms.open(id);\n",
              "      // Send a message to notify the kernel that we're ready.\n",
              "      channel.send({})\n",
              "\n",
              "      for await (const message of channel.messages) {\n",
              "        // Send a message to notify the kernel that we're ready.\n",
              "        channel.send({})\n",
              "        if (message.buffers) {\n",
              "          for (const buffer of message.buffers) {\n",
              "            buffers.push(buffer);\n",
              "            downloaded += buffer.byteLength;\n",
              "            progress.value = downloaded;\n",
              "          }\n",
              "        }\n",
              "      }\n",
              "      const blob = new Blob(buffers, {type: 'application/binary'});\n",
              "      const a = document.createElement('a');\n",
              "      a.href = window.URL.createObjectURL(blob);\n",
              "      a.download = filename;\n",
              "      div.appendChild(a);\n",
              "      a.click();\n",
              "      div.remove();\n",
              "    }\n",
              "  "
            ]
          },
          "metadata": {}
        },
        {
          "output_type": "display_data",
          "data": {
            "text/plain": [
              "<IPython.core.display.Javascript object>"
            ],
            "application/javascript": [
              "download(\"download_76ef148c-6b95-482e-9aae-790b1803c385\", \"reviewer_applicants.csv\", 243)"
            ]
          },
          "metadata": {}
        }
      ],
      "source": [
        "# save table of reviewer: applicants\n",
        "with open(\"reviewer_applicants.csv\",\"w\") as output:\n",
        "  output.write(\"Reviewer,Applicants\" + \",\"*(max_num-1) + \"\\n\")\n",
        "  print(\"Reviewer\\tApplicants\")\n",
        "  for reviewer in reviewer_dict:\n",
        "      line = reviewer\n",
        "      for applicant in reviewer_dict[reviewer]:\n",
        "        line += \",\" + applicant\n",
        "      while line.count(\",\") < max_num:\n",
        "        line += \",\"\n",
        "      output.write(line + \"\\n\")\n",
        "      print(line.replace(\",\",\"\\t\"))\n",
        "files.download(\"reviewer_applicants.csv\")"
      ]
    }
  ],
  "metadata": {
    "kernelspec": {
      "display_name": "Python 3 (ipykernel)",
      "language": "python",
      "name": "python3"
    },
    "language_info": {
      "codemirror_mode": {
        "name": "ipython",
        "version": 3
      },
      "file_extension": ".py",
      "mimetype": "text/x-python",
      "name": "python",
      "nbconvert_exporter": "python",
      "pygments_lexer": "ipython3",
      "version": "3.9.13"
    },
    "colab": {
      "provenance": []
    }
  },
  "nbformat": 4,
  "nbformat_minor": 0
}