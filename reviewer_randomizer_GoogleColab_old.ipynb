{
  "cells": [
    {
      "cell_type": "markdown",
      "metadata": {
        "id": "D-lFC39S4hYm"
      },
      "source": [
        "# Reviewer Randomizer\n",
        "\n",
        "**Inputs:**\n",
        "1. Number of people to be assigned to each applicant.\n",
        "2. List of reviewer names.\n",
        "3. List of applicant names.\n",
        "\n",
        "**Outputs:**\n",
        "1. Table of applicants with randomly assigned reviewers.\n",
        "2. Table of reviewers with assigned applicants to review.\n",
        "\n",
        "*(Both output tables contain the same information in different format.)*"
      ]
    },
    {
      "cell_type": "code",
      "execution_count": 1,
      "metadata": {
        "id": "FBc83fJf4hYr"
      },
      "outputs": [],
      "source": [
        "# Load packages\n",
        "from random import randrange\n",
        "from math import ceil\n",
        "from google.colab import files"
      ]
    },
    {
      "cell_type": "markdown",
      "source": [
        "### Enter inputs:\n",
        "* **Number of eyes on each application** (`eyes`)\n",
        "* **Reviewer names** (`reviewers`) - each reviewer on a new line; 3 quotes (`\"\"\"`) at the beginning and end of the list. Names can be first and last or just first or last; first and last names separated by space or a tab (doesn't matter). You should be able to paste the list in from excel if desired.\n",
        "* **Applicant names** (`applicants`) - same layout as reviewers"
      ],
      "metadata": {
        "id": "WI9lKcV6a6dC"
      }
    },
    {
      "cell_type": "code",
      "execution_count": 2,
      "metadata": {
        "id": "Jf2BRYn44hYt"
      },
      "outputs": [],
      "source": [
        "# Number of people assigned to each applicant.\n",
        "eyes = 3"
      ]
    },
    {
      "cell_type": "code",
      "execution_count": 3,
      "metadata": {
        "id": "E6pWhwkp4hYu"
      },
      "outputs": [],
      "source": [
        "# Input list of reviewers. Need 3 quotation marks at beginning and end of list only. Each reviewer should be on a new line.\n",
        "reviewers = \"\"\"Gary\n",
        "Tianyi\n",
        "Kevin\n",
        "Larry\n",
        "Henrique\n",
        "Eric\n",
        "Kelly\n",
        "Haining\n",
        "John\"\"\"\n",
        "reviewers = reviewers.replace(\"\\t\", \" \").split(\"\\n\")"
      ]
    },
    {
      "cell_type": "code",
      "execution_count": 4,
      "metadata": {
        "id": "_GcN3Vow4hYv"
      },
      "outputs": [],
      "source": [
        "# Input list of applicants. Need 3 quotation marks at beginning and end of list only. Each reviewer should be on a new line.\n",
        "applicants = \"\"\"A\tB\n",
        "C\tD\n",
        "E\tF\n",
        "G\tH\n",
        "I\tJ\n",
        "K\tL\n",
        "M\tN\n",
        "O\tP\n",
        "Q\tR\n",
        "S\tT\n",
        "U\tV\n",
        "W\tX\n",
        "Y\tZ\"\"\"\n",
        "applicants = applicants.replace(\"\\t\", \" \").split(\"\\n\")"
      ]
    },
    {
      "cell_type": "markdown",
      "source": [
        "### Run Script, Export Excel Sheets"
      ],
      "metadata": {
        "id": "wTk8LFiQbnEa"
      }
    },
    {
      "cell_type": "code",
      "execution_count": 5,
      "metadata": {
        "colab": {
          "base_uri": "https://localhost:8080/",
          "height": 260
        },
        "id": "AebegZdv4hYw",
        "outputId": "7515279a-55da-433e-a234-504385335a73"
      },
      "outputs": [
        {
          "output_type": "stream",
          "name": "stdout",
          "text": [
            "Applicant\tReviewers\n",
            "A B\tGary\tTianyi\tKevin\n",
            "C D\tHenrique\tEric\tKelly\n",
            "E F\tJohn\tGary\tTianyi\n",
            "G H\tHenrique\tJohn\tHaining\n",
            "I J\tHaining\tKevin\tGary\n",
            "K L\tEric\tLarry\tJohn\n",
            "M N\tEric\tTianyi\tLarry\n",
            "O P\tKevin\tEric\tHaining\n",
            "Q R\tEric\tTianyi\tLarry\n",
            "S T\tKelly\tJohn\tKevin\n",
            "U V\tGary\tTianyi\tJohn\n",
            "W X\tLarry\tHenrique\tHaining\n",
            "Y Z\tHaining\tHenrique\tGary\n"
          ]
        },
        {
          "output_type": "display_data",
          "data": {
            "text/plain": [
              "<IPython.core.display.Javascript object>"
            ],
            "application/javascript": [
              "\n",
              "    async function download(id, filename, size) {\n",
              "      if (!google.colab.kernel.accessAllowed) {\n",
              "        return;\n",
              "      }\n",
              "      const div = document.createElement('div');\n",
              "      const label = document.createElement('label');\n",
              "      label.textContent = `Downloading \"${filename}\": `;\n",
              "      div.appendChild(label);\n",
              "      const progress = document.createElement('progress');\n",
              "      progress.max = size;\n",
              "      div.appendChild(progress);\n",
              "      document.body.appendChild(div);\n",
              "\n",
              "      const buffers = [];\n",
              "      let downloaded = 0;\n",
              "\n",
              "      const channel = await google.colab.kernel.comms.open(id);\n",
              "      // Send a message to notify the kernel that we're ready.\n",
              "      channel.send({})\n",
              "\n",
              "      for await (const message of channel.messages) {\n",
              "        // Send a message to notify the kernel that we're ready.\n",
              "        channel.send({})\n",
              "        if (message.buffers) {\n",
              "          for (const buffer of message.buffers) {\n",
              "            buffers.push(buffer);\n",
              "            downloaded += buffer.byteLength;\n",
              "            progress.value = downloaded;\n",
              "          }\n",
              "        }\n",
              "      }\n",
              "      const blob = new Blob(buffers, {type: 'application/binary'});\n",
              "      const a = document.createElement('a');\n",
              "      a.href = window.URL.createObjectURL(blob);\n",
              "      a.download = filename;\n",
              "      div.appendChild(a);\n",
              "      a.click();\n",
              "      div.remove();\n",
              "    }\n",
              "  "
            ]
          },
          "metadata": {}
        },
        {
          "output_type": "display_data",
          "data": {
            "text/plain": [
              "<IPython.core.display.Javascript object>"
            ],
            "application/javascript": [
              "download(\"download_bd8d1003-e4ff-4080-ac6f-b3ed1d7cf1af\", \"applicants_reviewers.csv\", 320)"
            ]
          },
          "metadata": {}
        }
      ],
      "source": [
        "reviewer_num = len(reviewers)\n",
        "applicant_num = len(applicants)\n",
        "max_num = ceil(applicant_num * eyes / reviewer_num)\n",
        "\n",
        "reviewer_counts = {} # keep track of how many students each reviewer is assigned\n",
        "reviewer_dict = {} # keep a list of each applicant assigned to each reviewer\n",
        "applicant_dict = {} # keep a list of each reviewer assigned to each applicant\n",
        "for reviewer in reviewers: # build reviewer dictionaries\n",
        "    reviewer_counts[reviewer] = 0\n",
        "    reviewer_dict[reviewer] = []\n",
        "\n",
        "# save table of applicant: reviewers\n",
        "with open(\"applicants_reviewers.csv\",\"w\") as output:\n",
        "  output.write(\"Applicant,Reviewers\" + \",\"*(eyes-1) + \"\\n\")\n",
        "  print(\"Applicant\\tReviewers\")\n",
        "  for applicant in applicants:\n",
        "      applicant_dict[applicant] = []\n",
        "      rev_list = []\n",
        "      line = applicant\n",
        "      for x in range(eyes):\n",
        "          temp = reviewers[randrange(reviewer_num)]\n",
        "          while temp in rev_list or reviewer_counts[temp] >= max_num:\n",
        "              temp = reviewers[randrange(reviewer_num)]\n",
        "          rev_list.append(temp)\n",
        "          reviewer_counts[temp] += 1\n",
        "          reviewer_dict[temp].append(applicant)\n",
        "          applicant_dict[applicant].append(temp)\n",
        "          line += \",\" + temp\n",
        "      output.write(line + \"\\n\")\n",
        "      print(line.replace(\",\",\"\\t\"))\n",
        "files.download(\"applicants_reviewers.csv\")"
      ]
    },
    {
      "cell_type": "code",
      "execution_count": 6,
      "metadata": {
        "colab": {
          "base_uri": "https://localhost:8080/"
        },
        "id": "bZlZt2nB4hYx",
        "outputId": "ff59b754-d4a8-4a7d-9ad1-440ef4c1ae43"
      },
      "outputs": [
        {
          "output_type": "stream",
          "name": "stdout",
          "text": [
            "Gary\t5\n",
            "Tianyi\t5\n",
            "Kevin\t4\n",
            "Larry\t4\n",
            "Henrique\t4\n",
            "Eric\t5\n",
            "Kelly\t2\n",
            "Haining\t5\n",
            "John\t5\n"
          ]
        }
      ],
      "source": [
        "# check distribution of work\n",
        "for reviewer, count in reviewer_counts.items():\n",
        "    print(f\"{reviewer}\\t{count}\")"
      ]
    },
    {
      "cell_type": "code",
      "execution_count": 7,
      "metadata": {
        "colab": {
          "base_uri": "https://localhost:8080/",
          "height": 191
        },
        "id": "uec87A5q4hYy",
        "outputId": "d84e91de-5597-49f0-831e-d820e886e389"
      },
      "outputs": [
        {
          "output_type": "stream",
          "name": "stdout",
          "text": [
            "Reviewer\tApplicants\n",
            "Gary\tA B\tE F\tI J\tU V\tY Z\n",
            "Tianyi\tA B\tE F\tM N\tQ R\tU V\n",
            "Kevin\tA B\tI J\tO P\tS T\t\n",
            "Larry\tK L\tM N\tQ R\tW X\t\n",
            "Henrique\tC D\tG H\tW X\tY Z\t\n",
            "Eric\tC D\tK L\tM N\tO P\tQ R\n",
            "Kelly\tC D\tS T\t\t\t\n",
            "Haining\tG H\tI J\tO P\tW X\tY Z\n",
            "John\tE F\tG H\tK L\tS T\tU V\n"
          ]
        },
        {
          "output_type": "display_data",
          "data": {
            "text/plain": [
              "<IPython.core.display.Javascript object>"
            ],
            "application/javascript": [
              "\n",
              "    async function download(id, filename, size) {\n",
              "      if (!google.colab.kernel.accessAllowed) {\n",
              "        return;\n",
              "      }\n",
              "      const div = document.createElement('div');\n",
              "      const label = document.createElement('label');\n",
              "      label.textContent = `Downloading \"${filename}\": `;\n",
              "      div.appendChild(label);\n",
              "      const progress = document.createElement('progress');\n",
              "      progress.max = size;\n",
              "      div.appendChild(progress);\n",
              "      document.body.appendChild(div);\n",
              "\n",
              "      const buffers = [];\n",
              "      let downloaded = 0;\n",
              "\n",
              "      const channel = await google.colab.kernel.comms.open(id);\n",
              "      // Send a message to notify the kernel that we're ready.\n",
              "      channel.send({})\n",
              "\n",
              "      for await (const message of channel.messages) {\n",
              "        // Send a message to notify the kernel that we're ready.\n",
              "        channel.send({})\n",
              "        if (message.buffers) {\n",
              "          for (const buffer of message.buffers) {\n",
              "            buffers.push(buffer);\n",
              "            downloaded += buffer.byteLength;\n",
              "            progress.value = downloaded;\n",
              "          }\n",
              "        }\n",
              "      }\n",
              "      const blob = new Blob(buffers, {type: 'application/binary'});\n",
              "      const a = document.createElement('a');\n",
              "      a.href = window.URL.createObjectURL(blob);\n",
              "      a.download = filename;\n",
              "      div.appendChild(a);\n",
              "      a.click();\n",
              "      div.remove();\n",
              "    }\n",
              "  "
            ]
          },
          "metadata": {}
        },
        {
          "output_type": "display_data",
          "data": {
            "text/plain": [
              "<IPython.core.display.Javascript object>"
            ],
            "application/javascript": [
              "download(\"download_475cbb9c-027d-4f43-ae48-d707a3ccfa38\", \"reviewer_applicants.csv\", 243)"
            ]
          },
          "metadata": {}
        }
      ],
      "source": [
        "# save table of reviewer: applicants\n",
        "with open(\"reviewer_applicants.csv\",\"w\") as output:\n",
        "  output.write(\"Reviewer,Applicants\" + \",\"*(max_num-1) + \"\\n\")\n",
        "  print(\"Reviewer\\tApplicants\")\n",
        "  for reviewer in reviewer_dict:\n",
        "      line = reviewer\n",
        "      for applicant in reviewer_dict[reviewer]:\n",
        "        line += \",\" + applicant\n",
        "      while line.count(\",\") < max_num:\n",
        "        line += \",\"\n",
        "      output.write(line + \"\\n\")\n",
        "      print(line.replace(\",\",\"\\t\"))\n",
        "files.download(\"reviewer_applicants.csv\")"
      ]
    }
  ],
  "metadata": {
    "kernelspec": {
      "display_name": "Python 3 (ipykernel)",
      "language": "python",
      "name": "python3"
    },
    "language_info": {
      "codemirror_mode": {
        "name": "ipython",
        "version": 3
      },
      "file_extension": ".py",
      "mimetype": "text/x-python",
      "name": "python",
      "nbconvert_exporter": "python",
      "pygments_lexer": "ipython3",
      "version": "3.9.13"
    },
    "colab": {
      "provenance": []
    }
  },
  "nbformat": 4,
  "nbformat_minor": 0
}
